{
 "cells": [
  {
   "cell_type": "markdown",
   "metadata": {},
   "source": [
    "# San Francisco Rental Prices Dashboard\n",
    "\n",
    "In this notebook, you will compile the visualizations from the previous analysis into functions that can be used for a Panel dashboard."
   ]
  },
  {
   "cell_type": "code",
   "execution_count": 60,
   "metadata": {},
   "outputs": [],
   "source": [
    "# imports\n",
    "import panel as pn\n",
    "pn.extension('plotly')\n",
    "import plotly.express as px\n",
    "import pandas as pd\n",
    "import hvplot.pandas\n",
    "import matplotlib.pyplot as plt\n",
    "import os\n",
    "from pathlib import Path\n",
    "from dotenv import load_dotenv"
   ]
  },
  {
   "cell_type": "code",
   "execution_count": 61,
   "metadata": {},
   "outputs": [],
   "source": [
    "# Read the Mapbox API key\n",
    "load_dotenv()\n",
    "map_box_api = os.getenv(\"mapbox\")\n",
    "px.set_mapbox_access_token(map_box_api)"
   ]
  },
  {
   "cell_type": "markdown",
   "metadata": {},
   "source": [
    "# Import Data"
   ]
  },
  {
   "cell_type": "code",
   "execution_count": 62,
   "metadata": {},
   "outputs": [],
   "source": [
    "# Import the necessary CSVs to Pandas DataFrames\n",
    "# DataFrame Dump\n",
    "\n",
    "file_path = Path(\"sfo_neighborhoods_census_data.csv\")\n",
    "neighborhoods_coordinates_df = pd.read_csv('neighborhoods_coordinates.csv')\n",
    "sfo_data = pd.read_csv(file_path, index_col=\"year\")\n",
    "max_units = number_of_units_df['housing_units'].max()\n",
    "min_units = number_of_units_df['housing_units'].min()\n",
    "units_std = number_of_units_df.std()\n",
    "neighborhood_means_yearly = sfo_data.groupby([sfo_data.index,'neighborhood']).mean()\n",
    "neighborhood_means_yearly.reset_index(inplace=True)\n",
    "neighborhood_means_yearly.columns = ['year','neighborhood','avg_px_sqr_foot','housing_units','avg_rent']\n",
    "neighborhood_means_yearly.set_index('year',inplace=True)\n",
    "neighborhood_mean = sfo_data.groupby('neighborhood').mean()\n",
    "neighborhood_mean.drop(columns =['housing_units','gross_rent'],inplace=True)\n",
    "neighborhood_mean.sort_values(by='sale_price_sqr_foot',ascending=False,inplace=True)\n",
    "top_10_mean = neighborhood_mean[0:10]\n",
    "avg_ppsf_and_rent = sfo_data.groupby(sfo_data.index).mean()\n",
    "avg_ppsf_and_rent.drop(columns=['housing_units'],inplace=True)\n",
    "avg_ppsf_and_rent.columns = ['avg_px_sqr_foot','avg_rent']\n"
   ]
  },
  {
   "cell_type": "code",
   "execution_count": 63,
   "metadata": {},
   "outputs": [],
   "source": [
    "number_of_units_df = sfo_data.groupby('year').mean()\n",
    "number_of_units_df.drop(columns=['gross_rent','sale_price_sqr_foot'],inplace=True)"
   ]
  },
  {
   "cell_type": "code",
   "execution_count": 64,
   "metadata": {},
   "outputs": [],
   "source": [
    "# COMMENTED OUT MAP PLOT, TROUBLESHOOTING\n",
    "# neighborhoods_coordinates_df.reset_index()\n",
    "# neighborhoods_coordinates_df['Neighborhood'] = neighborhoods_coordinates_df['Neighborhood'].str.strip()\n",
    "# neighborhoods_coordinates_df.set_index('Neighborhood',inplace=True)\n",
    "# neighborhoods_coordinates_df"
   ]
  },
  {
   "cell_type": "code",
   "execution_count": 65,
   "metadata": {},
   "outputs": [],
   "source": [
    "# a = list(neighborhoods_coordinates_df.index)"
   ]
  },
  {
   "cell_type": "code",
   "execution_count": 66,
   "metadata": {},
   "outputs": [],
   "source": [
    "# neighborhood_mean = sfo_data.groupby('neighborhood').mean()\n",
    "# neighborhood_mean.reset_index(inplace=True)\n",
    "# neighborhood_mean['neighborhood'] = neighborhood_mean['neighborhood'].str.strip()\n",
    "# neighborhood_mean.set_index('neighborhood',inplace=True)\n",
    "# neighborhood_mean"
   ]
  },
  {
   "cell_type": "code",
   "execution_count": 67,
   "metadata": {},
   "outputs": [],
   "source": [
    "#b = list(neighborhood_mean.index)"
   ]
  },
  {
   "cell_type": "code",
   "execution_count": 68,
   "metadata": {},
   "outputs": [],
   "source": [
    "#[x for x in a if x not in b]"
   ]
  },
  {
   "cell_type": "code",
   "execution_count": 69,
   "metadata": {},
   "outputs": [],
   "source": [
    "#[x for x in b if x not in a]"
   ]
  },
  {
   "cell_type": "code",
   "execution_count": 70,
   "metadata": {},
   "outputs": [],
   "source": [
    "#len(set(b)),len(b)"
   ]
  },
  {
   "cell_type": "code",
   "execution_count": 71,
   "metadata": {},
   "outputs": [],
   "source": [
    "# i=0\n",
    "# for i in range(0,len(b)):  \n",
    "#     value = b[i]\n",
    "#     value\n",
    "#     b.count(value)\n",
    "#     if b.count(value) >1:\n",
    "#         print(value)"
   ]
  },
  {
   "cell_type": "code",
   "execution_count": 72,
   "metadata": {},
   "outputs": [],
   "source": [
    "# neighborhood_mean.loc['Bernal Heights']"
   ]
  },
  {
   "cell_type": "markdown",
   "metadata": {},
   "source": [
    "- - -"
   ]
  },
  {
   "cell_type": "markdown",
   "metadata": {},
   "source": [
    "## Panel Visualizations\n",
    "\n",
    "In this section, you will copy the code for each plot type from your analysis notebook and place it into separate functions that Panel can use to create panes for the dashboard. \n",
    "\n",
    "These functions will convert the plot object to a Panel pane.\n",
    "\n",
    "Be sure to include any DataFrame transformation/manipulation code required along with the plotting code.\n",
    "\n",
    "Return a Panel pane object from each function that can be used to build the dashboard.\n",
    "\n",
    "Note: Remove any `.show()` lines from the code. We want to return the plots instead of showing them. The Panel dashboard will then display the plots."
   ]
  },
  {
   "cell_type": "code",
   "execution_count": 73,
   "metadata": {},
   "outputs": [],
   "source": [
    "# # Define Panel Visualization Functions\n",
    "def housing_units_per_year():\n",
    "    hsg_units_chart = number_of_units_df.plot.bar(ylim=(min_units-1000,max_units+1000),\n",
    "                            title=\"Housing Units in San Francisco from 2010 to 2016\",\n",
    "                            ylabel='Housing Units',\n",
    "                            legend=False)\n",
    "    return hsg_units_chart\n",
    "\n",
    "\n",
    "def average_gross_rent():\n",
    "    average_ppsf_chart = avg_ppsf_and_rent['avg_rent'].hvplot(title='Average Rent by Year',ylabel='Price per SqFt',color='green')\n",
    "    return average_ppsf_chart\n",
    "\n",
    "\n",
    "def average_sales_price():\n",
    "    average_sales_chart = avg_ppsf_and_rent['avg_px_sqr_foot'].hvplot(title='Average Price per Square Foot by Year',ylabel='Price per SqFt',color='red')\n",
    "    return average_sales_chart\n",
    "\n",
    "\n",
    "def average_price_by_neighborhood():\n",
    "    return neighborhood_means_yearly.hvplot.line(y='avg_rent', groupby='neighborhood', widget_location='left_top')\n",
    "\n",
    "\n",
    "def top_most_expensive_neighborhoods():\n",
    "    top_10_chart = top_10_mean.hvplot.bar(rot=45)\n",
    "    return top_10_chart\n",
    "\n",
    "\n",
    "def most_expensive_neighborhoods_rent_sales():  \n",
    "    expensive_rent_sales = neighborhood_means_yearly.hvplot.bar(y=('avg_px_sqr_foot','avg_rent'),groupby='neighborhood',widget_location='right_top',rot=90)\n",
    "    return expensive_rent_sales\n",
    "    \n",
    "    \n",
    "\n",
    "# def neighborhood_map():\n",
    "# Cannot get the data to import properly. neighborhood_mean DataFrame is pulling in 74 rows instead of 73....\n",
    "#     map_1 = px.scatter_mapbox(\n",
    "#         combined_df,\n",
    "#         lat=\"Lat\",\n",
    "#         lon=\"Lon\",\n",
    "#         color='gross_rent',\n",
    "#         size='sale_price_sqr_foot'\n",
    "# )\n",
    "#     return map_1.show()\n",
    "\n",
    "# # def parallel_coordinates():\n",
    "#     \"\"\"Parallel Coordinates Plot.\"\"\"\n",
    "\n",
    "#     # YOUR CODE HERE!\n",
    "\n",
    "\n",
    "\n",
    "# def parallel_categories():\n",
    "#     \"\"\"Parallel Categories Plot.\"\"\"\n",
    "    \n",
    "#     # YOUR CODE HERE!\n",
    "\n",
    "# def sunburst():\n",
    "#     \"\"\"Sunburst Plot.\"\"\"\n",
    "    \n",
    "#     # YOUR CODE HERE!\n"
   ]
  },
  {
   "cell_type": "markdown",
   "metadata": {},
   "source": [
    "## Panel Dashboard\n",
    "\n",
    "In this section, you will combine all of the plots into a single dashboard view using Panel. Be creative with your dashboard design!"
   ]
  },
  {
   "cell_type": "code",
   "execution_count": 74,
   "metadata": {},
   "outputs": [
    {
     "data": {},
     "metadata": {},
     "output_type": "display_data"
    },
    {
     "data": {},
     "metadata": {},
     "output_type": "display_data"
    },
    {
     "data": {
      "application/vnd.holoviews_exec.v0+json": "",
      "text/html": [
       "<div id='3288'>\n",
       "\n",
       "\n",
       "\n",
       "\n",
       "\n",
       "  <div class=\"bk-root\" id=\"81b703f6-524f-4742-922e-4397614eac1c\" data-root-id=\"3288\"></div>\n",
       "</div>\n",
       "<script type=\"application/javascript\">(function(root) {\n",
       "  function embed_document(root) {\n",
       "    var docs_json = {\"cc053440-5fe2-48cb-9988-9cfeb1665709\":{\"defs\":[{\"extends\":null,\"module\":null,\"name\":\"ReactiveHTML1\",\"overrides\":[],\"properties\":[]},{\"extends\":null,\"module\":null,\"name\":\"FlexBox1\",\"overrides\":[],\"properties\":[{\"default\":\"flex-start\",\"kind\":null,\"name\":\"align_content\"},{\"default\":\"flex-start\",\"kind\":null,\"name\":\"align_items\"},{\"default\":\"row\",\"kind\":null,\"name\":\"flex_direction\"},{\"default\":\"wrap\",\"kind\":null,\"name\":\"flex_wrap\"},{\"default\":\"flex-start\",\"kind\":null,\"name\":\"justify_content\"}]},{\"extends\":null,\"module\":null,\"name\":\"TemplateActions1\",\"overrides\":[],\"properties\":[{\"default\":0,\"kind\":null,\"name\":\"open_modal\"},{\"default\":0,\"kind\":null,\"name\":\"close_modal\"}]},{\"extends\":null,\"module\":null,\"name\":\"MaterialTemplateActions1\",\"overrides\":[],\"properties\":[{\"default\":0,\"kind\":null,\"name\":\"open_modal\"},{\"default\":0,\"kind\":null,\"name\":\"close_modal\"}]}],\"roots\":{\"references\":[{\"attributes\":{\"overlay\":{\"id\":\"3385\"}},\"id\":\"3383\",\"type\":\"BoxZoomTool\"},{\"attributes\":{\"line_color\":\"#30a2da\",\"line_width\":2,\"x\":{\"field\":\"year\"},\"y\":{\"field\":\"avg_rent\"}},\"id\":\"3472\",\"type\":\"Line\"},{\"attributes\":{\"axis\":{\"id\":\"3304\"},\"grid_line_color\":null,\"ticker\":null},\"id\":\"3307\",\"type\":\"Grid\"},{\"attributes\":{\"data_source\":{\"id\":\"3469\"},\"glyph\":{\"id\":\"3472\"},\"hover_glyph\":null,\"muted_glyph\":{\"id\":\"3474\"},\"nonselection_glyph\":{\"id\":\"3473\"},\"selection_glyph\":{\"id\":\"3477\"},\"view\":{\"id\":\"3476\"}},\"id\":\"3475\",\"type\":\"GlyphRenderer\"},{\"attributes\":{\"factors\":[\"avg_px_sqr_foot\",\"avg_rent\"],\"palette\":[\"#30a2da\",\"#fc4f30\"]},\"id\":\"3546\",\"type\":\"CategoricalColorMapper\"},{\"attributes\":{\"axis\":{\"id\":\"3308\"},\"dimension\":1,\"grid_line_color\":null,\"ticker\":null},\"id\":\"3311\",\"type\":\"Grid\"},{\"attributes\":{},\"id\":\"3625\",\"type\":\"Selection\"},{\"attributes\":{\"css_classes\":[\"markdown\"],\"margin\":[5,5,5,5],\"name\":\"Markdown04702\",\"text\":\"&lt;h1&gt;Most Expensive Neighborhoods Rent/Sales Comparison&lt;/h1&gt;\"},\"id\":\"3512\",\"type\":\"panel.models.markup.HTML\"},{\"attributes\":{},\"id\":\"3309\",\"type\":\"BasicTicker\"},{\"attributes\":{\"children\":[{\"id\":\"3290\"},{\"id\":\"3291\"},{\"id\":\"3295\"},{\"id\":\"3363\"}],\"margin\":[0,0,0,0],\"name\":\"Column04561\"},\"id\":\"3289\",\"type\":\"Column\"},{\"attributes\":{\"axis_label\":\"Price per SqFt\",\"formatter\":{\"id\":\"3339\"},\"major_label_policy\":{\"id\":\"3337\"},\"ticker\":{\"id\":\"3309\"}},\"id\":\"3308\",\"type\":\"LinearAxis\"},{\"attributes\":{\"line_color\":\"#30a2da\",\"line_width\":2,\"x\":{\"field\":\"year\"},\"y\":{\"field\":\"avg_rent\"}},\"id\":\"3477\",\"type\":\"Line\"},{\"attributes\":{\"data_source\":{\"id\":\"3325\"},\"glyph\":{\"id\":\"3328\"},\"hover_glyph\":null,\"muted_glyph\":{\"id\":\"3330\"},\"nonselection_glyph\":{\"id\":\"3329\"},\"selection_glyph\":{\"id\":\"3333\"},\"view\":{\"id\":\"3332\"}},\"id\":\"3331\",\"type\":\"GlyphRenderer\"},{\"attributes\":{\"client_comm_id\":\"67e84eff804c4267a1024f4ed2df40ee\",\"comm_id\":\"e7f2c8c7cbf942e3bb5a6bbf3d8d106a\",\"plot_id\":\"3288\"},\"id\":\"3810\",\"type\":\"panel.models.comm_manager.CommManager\"},{\"attributes\":{},\"id\":\"3647\",\"type\":\"UnionRenderers\"},{\"attributes\":{},\"id\":\"3548\",\"type\":\"Selection\"},{\"attributes\":{\"children\":[{\"id\":\"3517\"},{\"id\":\"3588\"}],\"margin\":[0,0,0,0],\"name\":\"Row04621\"},\"id\":\"3513\",\"type\":\"Row\"},{\"attributes\":{\"source\":{\"id\":\"3325\"}},\"id\":\"3332\",\"type\":\"CDSView\"},{\"attributes\":{\"callback\":null,\"renderers\":[{\"id\":\"3630\"}],\"tags\":[\"hv_created\"],\"tooltips\":[[\"neighborhood\",\"@{neighborhood}\"],[\"sale_price_sqr_foot\",\"@{sale_price_sqr_foot}\"]]},\"id\":\"3594\",\"type\":\"HoverTool\"},{\"attributes\":{},\"id\":\"3334\",\"type\":\"AllLabels\"},{\"attributes\":{\"line_alpha\":0.2,\"line_color\":\"green\",\"line_width\":2,\"x\":{\"field\":\"year\"},\"y\":{\"field\":\"avg_rent\"}},\"id\":\"3330\",\"type\":\"Line\"},{\"attributes\":{\"active_multi\":null,\"tools\":[{\"id\":\"3294\"},{\"id\":\"3312\"},{\"id\":\"3313\"},{\"id\":\"3314\"},{\"id\":\"3315\"},{\"id\":\"3316\"}]},\"id\":\"3318\",\"type\":\"Toolbar\"},{\"attributes\":{\"below\":[{\"id\":\"3526\"}],\"center\":[{\"id\":\"3528\"},{\"id\":\"3532\"}],\"height\":300,\"left\":[{\"id\":\"3529\"}],\"margin\":[5,5,5,5],\"min_border_bottom\":10,\"min_border_left\":10,\"min_border_right\":10,\"min_border_top\":10,\"renderers\":[{\"id\":\"3553\"}],\"sizing_mode\":\"fixed\",\"title\":{\"id\":\"3518\"},\"toolbar\":{\"id\":\"3539\"},\"width\":700,\"x_range\":{\"id\":\"3514\"},\"x_scale\":{\"id\":\"3522\"},\"y_range\":{\"id\":\"3515\"},\"y_scale\":{\"id\":\"3524\"}},\"id\":\"3517\",\"subtype\":\"Figure\",\"type\":\"Plot\"},{\"attributes\":{},\"id\":\"3312\",\"type\":\"SaveTool\"},{\"attributes\":{\"source\":{\"id\":\"3624\"}},\"id\":\"3631\",\"type\":\"CDSView\"},{\"attributes\":{\"end\":2016.0,\"reset_end\":2016.0,\"reset_start\":2010.0,\"start\":2010.0,\"tags\":[[[\"year\",\"year\",null]]]},\"id\":\"3292\",\"type\":\"Range1d\"},{\"attributes\":{},\"id\":\"3313\",\"type\":\"PanTool\"},{\"attributes\":{\"end\":929.3801355198136,\"reset_end\":929.3801355198136,\"reset_start\":0.0,\"tags\":[[[\"sale_price_sqr_foot\",\"sale_price_sqr_foot\",null]]]},\"id\":\"3593\",\"type\":\"Range1d\"},{\"attributes\":{},\"id\":\"3314\",\"type\":\"WheelZoomTool\"},{\"attributes\":{\"children\":[{\"id\":\"3590\"}],\"css_classes\":[\"panel-widget-box\"],\"margin\":[5,5,5,5],\"name\":\"WidgetBox04622\"},\"id\":\"3589\",\"type\":\"Column\"},{\"attributes\":{\"child\":{\"id\":\"3289\"},\"name\":\"Column04561\",\"title\":\"Market Value Analysis\"},\"id\":\"3428\",\"type\":\"Panel\"},{\"attributes\":{},\"id\":\"3339\",\"type\":\"BasicTickFormatter\"},{\"attributes\":{\"overlay\":{\"id\":\"3317\"}},\"id\":\"3315\",\"type\":\"BoxZoomTool\"},{\"attributes\":{\"data_source\":{\"id\":\"3547\"},\"glyph\":{\"id\":\"3550\"},\"hover_glyph\":null,\"muted_glyph\":{\"id\":\"3552\"},\"nonselection_glyph\":{\"id\":\"3551\"},\"selection_glyph\":{\"id\":\"3555\"},\"view\":{\"id\":\"3554\"}},\"id\":\"3553\",\"type\":\"GlyphRenderer\"},{\"attributes\":{},\"id\":\"3522\",\"type\":\"CategoricalScale\"},{\"attributes\":{\"text_color\":\"black\",\"text_font_size\":\"12pt\"},\"id\":\"3596\",\"type\":\"Title\"},{\"attributes\":{\"bottom\":{\"value\":0},\"fill_alpha\":{\"value\":1.0},\"fill_color\":{\"value\":\"#30a2da\"},\"hatch_alpha\":{\"value\":1.0},\"hatch_color\":{\"value\":\"black\"},\"hatch_scale\":{\"value\":12.0},\"hatch_weight\":{\"value\":1.0},\"line_alpha\":{\"value\":1.0},\"line_cap\":{\"value\":\"butt\"},\"line_color\":{\"value\":\"black\"},\"line_dash\":{\"value\":[]},\"line_dash_offset\":{\"value\":0},\"line_join\":{\"value\":\"bevel\"},\"line_width\":{\"value\":1},\"top\":{\"field\":\"sale_price_sqr_foot\"},\"width\":{\"value\":0.8},\"x\":{\"field\":\"neighborhood\"}},\"id\":\"3632\",\"type\":\"VBar\"},{\"attributes\":{\"axis_label\":\"year\",\"formatter\":{\"id\":\"3404\"},\"major_label_policy\":{\"id\":\"3402\"},\"ticker\":{\"id\":\"3373\"}},\"id\":\"3372\",\"type\":\"LinearAxis\"},{\"attributes\":{\"below\":[{\"id\":\"3372\"}],\"center\":[{\"id\":\"3375\"},{\"id\":\"3379\"}],\"height\":300,\"left\":[{\"id\":\"3376\"}],\"margin\":[5,5,5,5],\"min_border_bottom\":10,\"min_border_left\":10,\"min_border_right\":10,\"min_border_top\":10,\"renderers\":[{\"id\":\"3399\"}],\"sizing_mode\":\"fixed\",\"title\":{\"id\":\"3364\"},\"toolbar\":{\"id\":\"3386\"},\"width\":700,\"x_range\":{\"id\":\"3292\"},\"x_scale\":{\"id\":\"3368\"},\"y_range\":{\"id\":\"3361\"},\"y_scale\":{\"id\":\"3370\"}},\"id\":\"3363\",\"subtype\":\"Figure\",\"type\":\"Plot\"},{\"attributes\":{},\"id\":\"3316\",\"type\":\"ResetTool\"},{\"attributes\":{\"source\":{\"id\":\"3469\"}},\"id\":\"3476\",\"type\":\"CDSView\"},{\"attributes\":{\"end\":733.2177371101801,\"reset_end\":733.2177371101801,\"reset_start\":306.3294011864627,\"start\":306.3294011864627,\"tags\":[[[\"avg_px_sqr_foot\",\"avg_px_sqr_foot\",null]]]},\"id\":\"3361\",\"type\":\"Range1d\"},{\"attributes\":{},\"id\":\"3600\",\"type\":\"CategoricalScale\"},{\"attributes\":{},\"id\":\"3602\",\"type\":\"LinearScale\"},{\"attributes\":{\"line_color\":\"red\",\"line_width\":2,\"x\":{\"field\":\"year\"},\"y\":{\"field\":\"avg_px_sqr_foot\"}},\"id\":\"3396\",\"type\":\"Line\"},{\"attributes\":{},\"id\":\"3368\",\"type\":\"LinearScale\"},{\"attributes\":{},\"id\":\"3605\",\"type\":\"CategoricalTicker\"},{\"attributes\":{\"line_alpha\":0.2,\"line_color\":\"#30a2da\",\"line_width\":2,\"x\":{\"field\":\"year\"},\"y\":{\"field\":\"avg_rent\"}},\"id\":\"3474\",\"type\":\"Line\"},{\"attributes\":{\"margin\":[20,20,20,20],\"min_width\":250,\"options\":[\"Alamo Square\",\"Anza Vista\",\"Bayview\",\"Buena Vista Park\",\"Central Richmond\",\"Central Sunset\",\"Corona Heights\",\"Cow Hollow\",\"Croker Amazon\",\"Diamond Heights\",\"Downtown \",\"Eureka Valley/Dolores Heights\",\"Excelsior\",\"Financial District North\",\"Financial District South\",\"Forest Knolls\",\"Glen Park\",\"Golden Gate Heights\",\"Haight Ashbury\",\"Hayes Valley\",\"Hunters Point\",\"Ingleside \",\"Inner Mission\",\"Inner Parkside\",\"Inner Richmond\",\"Inner Sunset\",\"Jordan Park/Laurel Heights\",\"Lake --The Presidio\",\"Lone Mountain\",\"Lower Pacific Heights\",\"Marina\",\"Miraloma Park\",\"Mission Bay\",\"Mission Dolores\",\"Mission Terrace\",\"Nob Hill\",\"Noe Valley\",\"Oceanview\",\"Outer Parkside\",\"Outer Richmond \",\"Outer Sunset\",\"Pacific Heights\",\"Park North\",\"Parkside\",\"Parnassus/Ashbury Heights\",\"Portola\",\"Potrero Hill\",\"Presidio Heights\",\"Russian Hill\",\"South Beach\",\"South of Market\",\"Sunnyside\",\"Telegraph Hill\",\"Twin Peaks\",\"Union Square District\",\"Van Ness/ Civic Center\",\"West Portal\",\"Western Addition\",\"Yerba Buena\",\"Bernal Heights\",\"Clarendon Heights\",\"Duboce Triangle\",\"Ingleside Heights\",\"North Beach\",\"North Waterfront\",\"Outer Mission\",\"Westwood Highlands\",\"Bernal Heights \",\"Merced Heights\",\"Midtown Terrace\",\"Visitacion Valley\",\"Silver Terrace\",\"Westwood Park\",\"Bayview Heights\"],\"title\":\"neighborhood\",\"value\":\"Alamo Square\",\"width\":250},\"id\":\"3434\",\"type\":\"Select\"},{\"attributes\":{\"margin\":[5,5,5,5],\"name\":\"Str04549\",\"text\":\"&lt;pre&gt;AxesSubplot(0.125,0.125;0.775x0.755)&lt;/pre&gt;\"},\"id\":\"3291\",\"type\":\"panel.models.markup.HTML\"},{\"attributes\":{},\"id\":\"3478\",\"type\":\"AllLabels\"},{\"attributes\":{\"margin\":[0,0,0,0],\"tabs\":[{\"id\":\"3428\"},{\"id\":\"3510\"},{\"id\":\"3659\"}]},\"id\":\"3288\",\"type\":\"Tabs\"},{\"attributes\":{\"data_source\":{\"id\":\"3624\"},\"glyph\":{\"id\":\"3627\"},\"hover_glyph\":null,\"muted_glyph\":{\"id\":\"3629\"},\"nonselection_glyph\":{\"id\":\"3628\"},\"selection_glyph\":{\"id\":\"3632\"},\"view\":{\"id\":\"3631\"}},\"id\":\"3630\",\"type\":\"GlyphRenderer\"},{\"attributes\":{\"data\":{\"avg_px_sqr_foot\":{\"__ndarray__\":\"tQKjeIIVd0Do7CdydF51QGdijk899nhAaBKk2Jo5fkDHKCTbN2KBQPETFqRSxINATx33UCbNhUA=\",\"dtype\":\"float64\",\"order\":\"little\",\"shape\":[7]},\"year\":[2010,2011,2012,2013,2014,2015,2016]},\"selected\":{\"id\":\"3394\"},\"selection_policy\":{\"id\":\"3416\"}},\"id\":\"3393\",\"type\":\"ColumnDataSource\"},{\"attributes\":{\"axis_label\":\"year, Variable\",\"formatter\":{\"id\":\"3558\"},\"major_label_orientation\":1.5707963267948966,\"major_label_policy\":{\"id\":\"3556\"},\"ticker\":{\"id\":\"3527\"}},\"id\":\"3526\",\"type\":\"CategoricalAxis\"},{\"attributes\":{\"text\":\"Average Price per Square Foot by Year\",\"text_color\":\"black\",\"text_font_size\":\"12pt\"},\"id\":\"3364\",\"type\":\"Title\"},{\"attributes\":{\"axis\":{\"id\":\"3607\"},\"dimension\":1,\"grid_line_color\":null,\"ticker\":null},\"id\":\"3610\",\"type\":\"Grid\"},{\"attributes\":{\"line_color\":\"green\",\"line_width\":2,\"x\":{\"field\":\"year\"},\"y\":{\"field\":\"avg_rent\"}},\"id\":\"3328\",\"type\":\"Line\"},{\"attributes\":{},\"id\":\"3416\",\"type\":\"UnionRenderers\"},{\"attributes\":{\"data_source\":{\"id\":\"3393\"},\"glyph\":{\"id\":\"3396\"},\"hover_glyph\":null,\"muted_glyph\":{\"id\":\"3398\"},\"nonselection_glyph\":{\"id\":\"3397\"},\"selection_glyph\":{\"id\":\"3401\"},\"view\":{\"id\":\"3400\"}},\"id\":\"3399\",\"type\":\"GlyphRenderer\"},{\"attributes\":{\"axis_label\":\"neighborhood\",\"formatter\":{\"id\":\"3635\"},\"major_label_orientation\":0.7853981633974483,\"major_label_policy\":{\"id\":\"3633\"},\"ticker\":{\"id\":\"3605\"}},\"id\":\"3604\",\"type\":\"CategoricalAxis\"},{\"attributes\":{\"callback\":null,\"renderers\":[{\"id\":\"3399\"}],\"tags\":[\"hv_created\"],\"tooltips\":[[\"year\",\"@{year}\"],[\"avg_px_sqr_foot\",\"@{avg_px_sqr_foot}\"]]},\"id\":\"3362\",\"type\":\"HoverTool\"},{\"attributes\":{\"below\":[{\"id\":\"3304\"}],\"center\":[{\"id\":\"3307\"},{\"id\":\"3311\"}],\"height\":300,\"left\":[{\"id\":\"3308\"}],\"margin\":[5,5,5,5],\"min_border_bottom\":10,\"min_border_left\":10,\"min_border_right\":10,\"min_border_top\":10,\"renderers\":[{\"id\":\"3331\"}],\"sizing_mode\":\"fixed\",\"title\":{\"id\":\"3296\"},\"toolbar\":{\"id\":\"3318\"},\"width\":700,\"x_range\":{\"id\":\"3292\"},\"x_scale\":{\"id\":\"3300\"},\"y_range\":{\"id\":\"3293\"},\"y_scale\":{\"id\":\"3302\"}},\"id\":\"3295\",\"subtype\":\"Figure\",\"type\":\"Plot\"},{\"attributes\":{\"axis\":{\"id\":\"3529\"},\"dimension\":1,\"grid_line_color\":null,\"ticker\":null},\"id\":\"3532\",\"type\":\"Grid\"},{\"attributes\":{\"fill_alpha\":{\"value\":0.1},\"fill_color\":{\"value\":\"#30a2da\"},\"line_alpha\":{\"value\":0.1},\"top\":{\"field\":\"sale_price_sqr_foot\"},\"width\":{\"value\":0.8},\"x\":{\"field\":\"neighborhood\"}},\"id\":\"3628\",\"type\":\"VBar\"},{\"attributes\":{},\"id\":\"3394\",\"type\":\"Selection\"},{\"attributes\":{\"text\":\"Average Rent by Year\",\"text_color\":\"black\",\"text_font_size\":\"12pt\"},\"id\":\"3296\",\"type\":\"Title\"},{\"attributes\":{\"bottom_units\":\"screen\",\"fill_alpha\":0.5,\"fill_color\":\"lightgrey\",\"left_units\":\"screen\",\"level\":\"overlay\",\"line_alpha\":1.0,\"line_color\":\"black\",\"line_dash\":[4,4],\"line_width\":2,\"right_units\":\"screen\",\"syncable\":false,\"top_units\":\"screen\"},\"id\":\"3317\",\"type\":\"BoxAnnotation\"},{\"attributes\":{},\"id\":\"3382\",\"type\":\"WheelZoomTool\"},{\"attributes\":{},\"id\":\"3524\",\"type\":\"LinearScale\"},{\"attributes\":{\"factors\":[[\"2010\",\"avg_px_sqr_foot\"],[\"2010\",\"avg_rent\"],[\"2011\",\"avg_px_sqr_foot\"],[\"2011\",\"avg_rent\"],[\"2012\",\"avg_px_sqr_foot\"],[\"2012\",\"avg_rent\"],[\"2013\",\"avg_px_sqr_foot\"],[\"2013\",\"avg_rent\"],[\"2014\",\"avg_px_sqr_foot\"],[\"2014\",\"avg_rent\"],[\"2015\",\"avg_px_sqr_foot\"],[\"2015\",\"avg_rent\"],[\"2016\",\"avg_px_sqr_foot\"],[\"2016\",\"avg_rent\"]],\"tags\":[[[\"year\",\"year\",null],[\"Variable\",\"Variable\",null]]]},\"id\":\"3514\",\"type\":\"FactorRange\"},{\"attributes\":{\"child\":{\"id\":\"3429\"},\"name\":\"Row04596\",\"title\":\"Average Sales/Rent by Neighborhood\"},\"id\":\"3510\",\"type\":\"Panel\"},{\"attributes\":{\"line_alpha\":0.1,\"line_color\":\"green\",\"line_width\":2,\"x\":{\"field\":\"year\"},\"y\":{\"field\":\"avg_rent\"}},\"id\":\"3329\",\"type\":\"Line\"},{\"attributes\":{},\"id\":\"3381\",\"type\":\"PanTool\"},{\"attributes\":{\"text\":\"neighborhood: Alamo Square\",\"text_color\":\"black\",\"text_font_size\":\"12pt\"},\"id\":\"3518\",\"type\":\"Title\"},{\"attributes\":{},\"id\":\"3608\",\"type\":\"BasicTicker\"},{\"attributes\":{},\"id\":\"3380\",\"type\":\"SaveTool\"},{\"attributes\":{},\"id\":\"3527\",\"type\":\"CategoricalTicker\"},{\"attributes\":{\"line_alpha\":0.2,\"line_color\":\"red\",\"line_width\":2,\"x\":{\"field\":\"year\"},\"y\":{\"field\":\"avg_px_sqr_foot\"}},\"id\":\"3398\",\"type\":\"Line\"},{\"attributes\":{\"fill_alpha\":{\"value\":0.2},\"fill_color\":{\"value\":\"#30a2da\"},\"line_alpha\":{\"value\":0.2},\"top\":{\"field\":\"sale_price_sqr_foot\"},\"width\":{\"value\":0.8},\"x\":{\"field\":\"neighborhood\"}},\"id\":\"3629\",\"type\":\"VBar\"},{\"attributes\":{\"line_color\":\"green\",\"line_width\":2,\"x\":{\"field\":\"year\"},\"y\":{\"field\":\"avg_rent\"}},\"id\":\"3333\",\"type\":\"Line\"},{\"attributes\":{\"source\":{\"id\":\"3393\"}},\"id\":\"3400\",\"type\":\"CDSView\"},{\"attributes\":{\"axis\":{\"id\":\"3526\"},\"grid_line_color\":null,\"ticker\":null},\"id\":\"3528\",\"type\":\"Grid\"},{\"attributes\":{\"margin\":[5,5,5,5],\"name\":\"VSpacer04627\",\"sizing_mode\":\"stretch_height\"},\"id\":\"3591\",\"type\":\"Spacer\"},{\"attributes\":{\"active_multi\":null,\"tools\":[{\"id\":\"3362\"},{\"id\":\"3380\"},{\"id\":\"3381\"},{\"id\":\"3382\"},{\"id\":\"3383\"},{\"id\":\"3384\"}]},\"id\":\"3386\",\"type\":\"Toolbar\"},{\"attributes\":{\"callback\":null,\"renderers\":[{\"id\":\"3331\"}],\"tags\":[\"hv_created\"],\"tooltips\":[[\"year\",\"@{year}\"],[\"avg_rent\",\"@{avg_rent}\"]]},\"id\":\"3294\",\"type\":\"HoverTool\"},{\"attributes\":{\"axis\":{\"id\":\"3604\"},\"grid_line_color\":null,\"ticker\":null},\"id\":\"3606\",\"type\":\"Grid\"},{\"attributes\":{},\"id\":\"3530\",\"type\":\"BasicTicker\"},{\"attributes\":{\"child\":{\"id\":\"3511\"},\"name\":\"Column04709\",\"title\":\"Most Expensive Neighborhoods Rent/Sales Comparison\"},\"id\":\"3659\",\"type\":\"Panel\"},{\"attributes\":{\"axis_label\":\"\",\"formatter\":{\"id\":\"3561\"},\"major_label_policy\":{\"id\":\"3559\"},\"ticker\":{\"id\":\"3530\"}},\"id\":\"3529\",\"type\":\"LinearAxis\"},{\"attributes\":{\"fill_color\":{\"value\":\"#30a2da\"},\"top\":{\"field\":\"sale_price_sqr_foot\"},\"width\":{\"value\":0.8},\"x\":{\"field\":\"neighborhood\"}},\"id\":\"3627\",\"type\":\"VBar\"},{\"attributes\":{\"axis_label\":\"sale_price_sqr_foot\",\"formatter\":{\"id\":\"3638\"},\"major_label_policy\":{\"id\":\"3636\"},\"ticker\":{\"id\":\"3608\"}},\"id\":\"3607\",\"type\":\"LinearAxis\"},{\"attributes\":{\"line_alpha\":0.1,\"line_color\":\"red\",\"line_width\":2,\"x\":{\"field\":\"year\"},\"y\":{\"field\":\"avg_px_sqr_foot\"}},\"id\":\"3397\",\"type\":\"Line\"},{\"attributes\":{\"callback\":null,\"renderers\":[{\"id\":\"3475\"}],\"tags\":[\"hv_created\"],\"tooltips\":[[\"year\",\"@{year}\"],[\"avg_rent\",\"@{avg_rent}\"]]},\"id\":\"3438\",\"type\":\"HoverTool\"},{\"attributes\":{\"data\":{\"Variable\":[\"avg_px_sqr_foot\",\"avg_px_sqr_foot\",\"avg_px_sqr_foot\",\"avg_px_sqr_foot\",\"avg_px_sqr_foot\",\"avg_px_sqr_foot\",\"avg_px_sqr_foot\",\"avg_rent\",\"avg_rent\",\"avg_rent\",\"avg_rent\",\"avg_rent\",\"avg_rent\",\"avg_rent\"],\"value\":{\"__ndarray__\":\"DUc7WO0yckCafszcbwhxQIKRs5ot42ZAKDog0LQ8eEAVMinKGEd+QI4V5FDt0IJAVCHcmLVPdUAAAAAAAFyTQAAAAAAA6JdAAAAAAAAookAAAAAAADanQAAAAAAAkKtAAAAAAAA2rUAAAAAAACaxQA==\",\"dtype\":\"float64\",\"order\":\"little\",\"shape\":[14]},\"xoffsets\":[[\"2010\",\"avg_px_sqr_foot\"],[\"2011\",\"avg_px_sqr_foot\"],[\"2012\",\"avg_px_sqr_foot\"],[\"2013\",\"avg_px_sqr_foot\"],[\"2014\",\"avg_px_sqr_foot\"],[\"2015\",\"avg_px_sqr_foot\"],[\"2016\",\"avg_px_sqr_foot\"],[\"2010\",\"avg_rent\"],[\"2011\",\"avg_rent\"],[\"2012\",\"avg_rent\"],[\"2013\",\"avg_rent\"],[\"2014\",\"avg_rent\"],[\"2015\",\"avg_rent\"],[\"2016\",\"avg_rent\"]],\"year\":[\"2010\",\"2011\",\"2012\",\"2013\",\"2014\",\"2015\",\"2016\",\"2010\",\"2011\",\"2012\",\"2013\",\"2014\",\"2015\",\"2016\"]},\"selected\":{\"id\":\"3548\"},\"selection_policy\":{\"id\":\"3576\"}},\"id\":\"3547\",\"type\":\"ColumnDataSource\"},{\"attributes\":{},\"id\":\"3302\",\"type\":\"LinearScale\"},{\"attributes\":{},\"id\":\"3444\",\"type\":\"LinearScale\"},{\"attributes\":{\"source\":{\"id\":\"3547\"}},\"id\":\"3554\",\"type\":\"CDSView\"},{\"attributes\":{\"below\":[{\"id\":\"3604\"}],\"center\":[{\"id\":\"3606\"},{\"id\":\"3610\"}],\"height\":300,\"left\":[{\"id\":\"3607\"}],\"margin\":[5,5,5,5],\"min_border_bottom\":10,\"min_border_left\":10,\"min_border_right\":10,\"min_border_top\":10,\"renderers\":[{\"id\":\"3630\"}],\"sizing_mode\":\"fixed\",\"title\":{\"id\":\"3596\"},\"toolbar\":{\"id\":\"3617\"},\"width\":700,\"x_range\":{\"id\":\"3592\"},\"x_scale\":{\"id\":\"3600\"},\"y_range\":{\"id\":\"3593\"},\"y_scale\":{\"id\":\"3602\"}},\"id\":\"3595\",\"subtype\":\"Figure\",\"type\":\"Plot\"},{\"attributes\":{\"axis_label\":\"Price per SqFt\",\"formatter\":{\"id\":\"3407\"},\"major_label_policy\":{\"id\":\"3405\"},\"ticker\":{\"id\":\"3377\"}},\"id\":\"3376\",\"type\":\"LinearAxis\"},{\"attributes\":{\"below\":[{\"id\":\"3448\"}],\"center\":[{\"id\":\"3451\"},{\"id\":\"3455\"}],\"height\":300,\"left\":[{\"id\":\"3452\"}],\"margin\":[5,5,5,5],\"min_border_bottom\":10,\"min_border_left\":10,\"min_border_right\":10,\"min_border_top\":10,\"renderers\":[{\"id\":\"3475\"}],\"sizing_mode\":\"fixed\",\"title\":{\"id\":\"3440\"},\"toolbar\":{\"id\":\"3462\"},\"width\":700,\"x_range\":{\"id\":\"3292\"},\"x_scale\":{\"id\":\"3444\"},\"y_range\":{\"id\":\"3293\"},\"y_scale\":{\"id\":\"3446\"}},\"id\":\"3439\",\"subtype\":\"Figure\",\"type\":\"Plot\"},{\"attributes\":{},\"id\":\"3337\",\"type\":\"AllLabels\"},{\"attributes\":{\"end\":4705.1,\"reset_end\":4705.1,\"reset_start\":923.9,\"start\":923.9,\"tags\":[[[\"avg_rent\",\"avg_rent\",null]]]},\"id\":\"3293\",\"type\":\"Range1d\"},{\"attributes\":{},\"id\":\"3377\",\"type\":\"BasicTicker\"},{\"attributes\":{\"fill_alpha\":{\"value\":0.2},\"fill_color\":{\"field\":\"Variable\",\"transform\":{\"id\":\"3546\"}},\"line_alpha\":{\"value\":0.2},\"top\":{\"field\":\"value\"},\"width\":{\"value\":0.8},\"x\":{\"field\":\"xoffsets\"}},\"id\":\"3552\",\"type\":\"VBar\"},{\"attributes\":{},\"id\":\"3470\",\"type\":\"Selection\"},{\"attributes\":{},\"id\":\"3300\",\"type\":\"LinearScale\"},{\"attributes\":{\"axis\":{\"id\":\"3372\"},\"grid_line_color\":null,\"ticker\":null},\"id\":\"3375\",\"type\":\"Grid\"},{\"attributes\":{\"text\":\"neighborhood: Alamo Square\",\"text_color\":\"black\",\"text_font_size\":\"12pt\"},\"id\":\"3440\",\"type\":\"Title\"},{\"attributes\":{\"active_multi\":null,\"tools\":[{\"id\":\"3516\"},{\"id\":\"3533\"},{\"id\":\"3534\"},{\"id\":\"3535\"},{\"id\":\"3536\"},{\"id\":\"3537\"}]},\"id\":\"3539\",\"type\":\"Toolbar\"},{\"attributes\":{},\"id\":\"3446\",\"type\":\"LinearScale\"},{\"attributes\":{\"axis_label\":\"year\",\"formatter\":{\"id\":\"3336\"},\"major_label_policy\":{\"id\":\"3334\"},\"ticker\":{\"id\":\"3305\"}},\"id\":\"3304\",\"type\":\"LinearAxis\"},{\"attributes\":{},\"id\":\"3373\",\"type\":\"BasicTicker\"},{\"attributes\":{},\"id\":\"3348\",\"type\":\"UnionRenderers\"},{\"attributes\":{},\"id\":\"3533\",\"type\":\"SaveTool\"},{\"attributes\":{\"axis\":{\"id\":\"3376\"},\"dimension\":1,\"grid_line_color\":null,\"ticker\":null},\"id\":\"3379\",\"type\":\"Grid\"},{\"attributes\":{},\"id\":\"3305\",\"type\":\"BasicTicker\"},{\"attributes\":{},\"id\":\"3370\",\"type\":\"LinearScale\"},{\"attributes\":{},\"id\":\"3534\",\"type\":\"PanTool\"},{\"attributes\":{\"active_multi\":null,\"tools\":[{\"id\":\"3594\"},{\"id\":\"3611\"},{\"id\":\"3612\"},{\"id\":\"3613\"},{\"id\":\"3614\"},{\"id\":\"3615\"}]},\"id\":\"3617\",\"type\":\"Toolbar\"},{\"attributes\":{},\"id\":\"3611\",\"type\":\"SaveTool\"},{\"attributes\":{\"callback\":null,\"renderers\":[{\"id\":\"3553\"}],\"tags\":[\"hv_created\"],\"tooltips\":[[\"year\",\"@{year}\"],[\"Variable\",\"@{Variable}\"],[\"value\",\"@{value}\"]]},\"id\":\"3516\",\"type\":\"HoverTool\"},{\"attributes\":{},\"id\":\"3535\",\"type\":\"WheelZoomTool\"},{\"attributes\":{},\"id\":\"3480\",\"type\":\"BasicTickFormatter\"},{\"attributes\":{\"axis\":{\"id\":\"3452\"},\"dimension\":1,\"grid_line_color\":null,\"ticker\":null},\"id\":\"3455\",\"type\":\"Grid\"},{\"attributes\":{},\"id\":\"3612\",\"type\":\"PanTool\"},{\"attributes\":{\"overlay\":{\"id\":\"3538\"}},\"id\":\"3536\",\"type\":\"BoxZoomTool\"},{\"attributes\":{\"axis_label\":\"year\",\"formatter\":{\"id\":\"3480\"},\"major_label_policy\":{\"id\":\"3478\"},\"ticker\":{\"id\":\"3449\"}},\"id\":\"3448\",\"type\":\"LinearAxis\"},{\"attributes\":{},\"id\":\"3613\",\"type\":\"WheelZoomTool\"},{\"attributes\":{},\"id\":\"3561\",\"type\":\"BasicTickFormatter\"},{\"attributes\":{},\"id\":\"3449\",\"type\":\"BasicTicker\"},{\"attributes\":{\"overlay\":{\"id\":\"3616\"}},\"id\":\"3614\",\"type\":\"BoxZoomTool\"},{\"attributes\":{\"axis\":{\"id\":\"3448\"},\"grid_line_color\":null,\"ticker\":null},\"id\":\"3451\",\"type\":\"Grid\"},{\"attributes\":{},\"id\":\"3537\",\"type\":\"ResetTool\"},{\"attributes\":{\"fill_alpha\":{\"value\":0.1},\"fill_color\":{\"field\":\"Variable\",\"transform\":{\"id\":\"3546\"}},\"line_alpha\":{\"value\":0.1},\"top\":{\"field\":\"value\"},\"width\":{\"value\":0.8},\"x\":{\"field\":\"xoffsets\"}},\"id\":\"3551\",\"type\":\"VBar\"},{\"attributes\":{},\"id\":\"3453\",\"type\":\"BasicTicker\"},{\"attributes\":{\"children\":[{\"id\":\"3589\"},{\"id\":\"3591\"}],\"margin\":[0,0,0,0],\"name\":\"Column04628\"},\"id\":\"3588\",\"type\":\"Column\"},{\"attributes\":{\"axis_label\":\"avg_rent\",\"formatter\":{\"id\":\"3483\"},\"major_label_policy\":{\"id\":\"3481\"},\"ticker\":{\"id\":\"3453\"}},\"id\":\"3452\",\"type\":\"LinearAxis\"},{\"attributes\":{\"end\":4810.690068306854,\"reset_end\":4810.690068306854,\"reset_start\":0.0,\"tags\":[[[\"value\",\"value\",null]]]},\"id\":\"3515\",\"type\":\"Range1d\"},{\"attributes\":{},\"id\":\"3615\",\"type\":\"ResetTool\"},{\"attributes\":{},\"id\":\"3384\",\"type\":\"ResetTool\"},{\"attributes\":{\"active_multi\":null,\"tools\":[{\"id\":\"3438\"},{\"id\":\"3456\"},{\"id\":\"3457\"},{\"id\":\"3458\"},{\"id\":\"3459\"},{\"id\":\"3460\"}]},\"id\":\"3462\",\"type\":\"Toolbar\"},{\"attributes\":{},\"id\":\"3456\",\"type\":\"SaveTool\"},{\"attributes\":{},\"id\":\"3457\",\"type\":\"PanTool\"},{\"attributes\":{\"bottom\":{\"value\":0},\"fill_alpha\":{\"value\":1.0},\"fill_color\":{\"field\":\"Variable\",\"transform\":{\"id\":\"3546\"}},\"hatch_alpha\":{\"value\":1.0},\"hatch_color\":{\"value\":\"black\"},\"hatch_scale\":{\"value\":12.0},\"hatch_weight\":{\"value\":1.0},\"line_alpha\":{\"value\":1.0},\"line_cap\":{\"value\":\"butt\"},\"line_color\":{\"value\":\"black\"},\"line_dash\":{\"value\":[]},\"line_dash_offset\":{\"value\":0},\"line_join\":{\"value\":\"bevel\"},\"line_width\":{\"value\":1},\"top\":{\"field\":\"value\"},\"width\":{\"value\":0.8},\"x\":{\"field\":\"xoffsets\"}},\"id\":\"3555\",\"type\":\"VBar\"},{\"attributes\":{\"bottom_units\":\"screen\",\"fill_alpha\":0.5,\"fill_color\":\"lightgrey\",\"left_units\":\"screen\",\"level\":\"overlay\",\"line_alpha\":1.0,\"line_color\":\"black\",\"line_dash\":[4,4],\"line_width\":2,\"right_units\":\"screen\",\"syncable\":false,\"top_units\":\"screen\"},\"id\":\"3538\",\"type\":\"BoxAnnotation\"},{\"attributes\":{},\"id\":\"3458\",\"type\":\"WheelZoomTool\"},{\"attributes\":{},\"id\":\"3576\",\"type\":\"UnionRenderers\"},{\"attributes\":{},\"id\":\"3407\",\"type\":\"BasicTickFormatter\"},{\"attributes\":{},\"id\":\"3405\",\"type\":\"AllLabels\"},{\"attributes\":{\"overlay\":{\"id\":\"3461\"}},\"id\":\"3459\",\"type\":\"BoxZoomTool\"},{\"attributes\":{\"bottom_units\":\"screen\",\"fill_alpha\":0.5,\"fill_color\":\"lightgrey\",\"left_units\":\"screen\",\"level\":\"overlay\",\"line_alpha\":1.0,\"line_color\":\"black\",\"line_dash\":[4,4],\"line_width\":2,\"right_units\":\"screen\",\"syncable\":false,\"top_units\":\"screen\"},\"id\":\"3616\",\"type\":\"BoxAnnotation\"},{\"attributes\":{},\"id\":\"3336\",\"type\":\"BasicTickFormatter\"},{\"attributes\":{},\"id\":\"3481\",\"type\":\"AllLabels\"},{\"attributes\":{},\"id\":\"3460\",\"type\":\"ResetTool\"},{\"attributes\":{},\"id\":\"3559\",\"type\":\"AllLabels\"},{\"attributes\":{\"children\":[{\"id\":\"3512\"},{\"id\":\"3513\"},{\"id\":\"3595\"}],\"margin\":[0,0,0,0],\"name\":\"Column04709\"},\"id\":\"3511\",\"type\":\"Column\"},{\"attributes\":{},\"id\":\"3326\",\"type\":\"Selection\"},{\"attributes\":{},\"id\":\"3483\",\"type\":\"BasicTickFormatter\"},{\"attributes\":{\"children\":[{\"id\":\"3430\"},{\"id\":\"3431\"}],\"margin\":[0,0,0,0],\"name\":\"Row04596\"},\"id\":\"3429\",\"type\":\"Row\"},{\"attributes\":{},\"id\":\"3636\",\"type\":\"AllLabels\"},{\"attributes\":{\"css_classes\":[\"markdown\"],\"margin\":[5,5,5,5],\"name\":\"Markdown04594\",\"text\":\"&lt;h1&gt;Average Sales/Rent by Neighborhood&lt;/h1&gt;\"},\"id\":\"3430\",\"type\":\"panel.models.markup.HTML\"},{\"attributes\":{\"bottom_units\":\"screen\",\"fill_alpha\":0.5,\"fill_color\":\"lightgrey\",\"left_units\":\"screen\",\"level\":\"overlay\",\"line_alpha\":1.0,\"line_color\":\"black\",\"line_dash\":[4,4],\"line_width\":2,\"right_units\":\"screen\",\"syncable\":false,\"top_units\":\"screen\"},\"id\":\"3385\",\"type\":\"BoxAnnotation\"},{\"attributes\":{},\"id\":\"3633\",\"type\":\"AllLabels\"},{\"attributes\":{\"children\":[{\"id\":\"3434\"}],\"css_classes\":[\"panel-widget-box\"],\"margin\":[5,5,5,5],\"name\":\"WidgetBox04587\"},\"id\":\"3433\",\"type\":\"Column\"},{\"attributes\":{},\"id\":\"3635\",\"type\":\"CategoricalTickFormatter\"},{\"attributes\":{\"data\":{\"avg_rent\":[1239,1530,2324,2971,3528,3739,4390],\"year\":[2010,2011,2012,2013,2014,2015,2016]},\"selected\":{\"id\":\"3470\"},\"selection_policy\":{\"id\":\"3498\"}},\"id\":\"3469\",\"type\":\"ColumnDataSource\"},{\"attributes\":{\"children\":[{\"id\":\"3432\"},{\"id\":\"3439\"}],\"margin\":[0,0,0,0],\"name\":\"Row04586\"},\"id\":\"3431\",\"type\":\"Row\"},{\"attributes\":{\"children\":[{\"id\":\"3433\"},{\"id\":\"3435\"}],\"margin\":[0,0,0,0],\"name\":\"Column04593\"},\"id\":\"3432\",\"type\":\"Column\"},{\"attributes\":{},\"id\":\"3498\",\"type\":\"UnionRenderers\"},{\"attributes\":{\"fill_color\":{\"field\":\"Variable\",\"transform\":{\"id\":\"3546\"}},\"top\":{\"field\":\"value\"},\"width\":{\"value\":0.8},\"x\":{\"field\":\"xoffsets\"}},\"id\":\"3550\",\"type\":\"VBar\"},{\"attributes\":{},\"id\":\"3638\",\"type\":\"BasicTickFormatter\"},{\"attributes\":{\"margin\":[5,5,5,5],\"name\":\"VSpacer04592\",\"sizing_mode\":\"stretch_height\"},\"id\":\"3435\",\"type\":\"Spacer\"},{\"attributes\":{\"bottom_units\":\"screen\",\"fill_alpha\":0.5,\"fill_color\":\"lightgrey\",\"left_units\":\"screen\",\"level\":\"overlay\",\"line_alpha\":1.0,\"line_color\":\"black\",\"line_dash\":[4,4],\"line_width\":2,\"right_units\":\"screen\",\"syncable\":false,\"top_units\":\"screen\"},\"id\":\"3461\",\"type\":\"BoxAnnotation\"},{\"attributes\":{},\"id\":\"3402\",\"type\":\"AllLabels\"},{\"attributes\":{\"line_color\":\"red\",\"line_width\":2,\"x\":{\"field\":\"year\"},\"y\":{\"field\":\"avg_px_sqr_foot\"}},\"id\":\"3401\",\"type\":\"Line\"},{\"attributes\":{\"margin\":[20,20,20,20],\"min_width\":250,\"options\":[\"Alamo Square\",\"Anza Vista\",\"Bayview\",\"Buena Vista Park\",\"Central Richmond\",\"Central Sunset\",\"Corona Heights\",\"Cow Hollow\",\"Croker Amazon\",\"Diamond Heights\",\"Downtown \",\"Eureka Valley/Dolores Heights\",\"Excelsior\",\"Financial District North\",\"Financial District South\",\"Forest Knolls\",\"Glen Park\",\"Golden Gate Heights\",\"Haight Ashbury\",\"Hayes Valley\",\"Hunters Point\",\"Ingleside \",\"Inner Mission\",\"Inner Parkside\",\"Inner Richmond\",\"Inner Sunset\",\"Jordan Park/Laurel Heights\",\"Lake --The Presidio\",\"Lone Mountain\",\"Lower Pacific Heights\",\"Marina\",\"Miraloma Park\",\"Mission Bay\",\"Mission Dolores\",\"Mission Terrace\",\"Nob Hill\",\"Noe Valley\",\"Oceanview\",\"Outer Parkside\",\"Outer Richmond \",\"Outer Sunset\",\"Pacific Heights\",\"Park North\",\"Parkside\",\"Parnassus/Ashbury Heights\",\"Portola\",\"Potrero Hill\",\"Presidio Heights\",\"Russian Hill\",\"South Beach\",\"South of Market\",\"Sunnyside\",\"Telegraph Hill\",\"Twin Peaks\",\"Union Square District\",\"Van Ness/ Civic Center\",\"West Portal\",\"Western Addition\",\"Yerba Buena\",\"Bernal Heights\",\"Clarendon Heights\",\"Duboce Triangle\",\"Ingleside Heights\",\"North Beach\",\"North Waterfront\",\"Outer Mission\",\"Westwood Highlands\",\"Bernal Heights \",\"Merced Heights\",\"Midtown Terrace\",\"Visitacion Valley\",\"Silver Terrace\",\"Westwood Park\",\"Bayview Heights\"],\"title\":\"neighborhood\",\"value\":\"Alamo Square\",\"width\":250},\"id\":\"3590\",\"type\":\"Select\"},{\"attributes\":{},\"id\":\"3558\",\"type\":\"CategoricalTickFormatter\"},{\"attributes\":{},\"id\":\"3556\",\"type\":\"AllLabels\"},{\"attributes\":{},\"id\":\"3404\",\"type\":\"BasicTickFormatter\"},{\"attributes\":{\"factors\":[\"Union Square District\",\"Merced Heights\",\"Miraloma Park\",\"Pacific Heights\",\"Westwood Park\",\"Telegraph Hill\",\"Presidio Heights\",\"Cow Hollow\",\"Potrero Hill\",\"South Beach\"],\"tags\":[[[\"neighborhood\",\"neighborhood\",null]]]},\"id\":\"3592\",\"type\":\"FactorRange\"},{\"attributes\":{\"data\":{\"neighborhood\":[\"Union Square District\",\"Merced Heights\",\"Miraloma Park\",\"Pacific Heights\",\"Westwood Park\",\"Telegraph Hill\",\"Presidio Heights\",\"Cow Hollow\",\"Potrero Hill\",\"South Beach\"],\"sale_price_sqr_foot\":{\"__ndarray__\":\"JRAUMfI/jEB9IrkvwqaIQFx/3pp8XohAFZsVUHKMhUBr0ERas3iFQLsKhXgNJIVAy835O80ahUALV25bts+EQJrMCuEbsIRAya3y7v5QhEA=\",\"dtype\":\"float64\",\"order\":\"little\",\"shape\":[10]}},\"selected\":{\"id\":\"3625\"},\"selection_policy\":{\"id\":\"3647\"}},\"id\":\"3624\",\"type\":\"ColumnDataSource\"},{\"attributes\":{\"css_classes\":[\"markdown\"],\"margin\":[5,5,5,5],\"name\":\"Markdown04547\",\"text\":\"&lt;p&gt;Number of Housing Units per Year&lt;/p&gt;\"},\"id\":\"3290\",\"type\":\"panel.models.markup.HTML\"},{\"attributes\":{\"line_alpha\":0.1,\"line_color\":\"#30a2da\",\"line_width\":2,\"x\":{\"field\":\"year\"},\"y\":{\"field\":\"avg_rent\"}},\"id\":\"3473\",\"type\":\"Line\"},{\"attributes\":{\"data\":{\"avg_rent\":[1239,1530,2324,2971,3528,3739,4390],\"year\":[2010,2011,2012,2013,2014,2015,2016]},\"selected\":{\"id\":\"3326\"},\"selection_policy\":{\"id\":\"3348\"}},\"id\":\"3325\",\"type\":\"ColumnDataSource\"}],\"root_ids\":[\"3288\",\"3810\"]},\"title\":\"Bokeh Application\",\"version\":\"2.3.2\"}};\n",
       "    var render_items = [{\"docid\":\"cc053440-5fe2-48cb-9988-9cfeb1665709\",\"root_ids\":[\"3288\"],\"roots\":{\"3288\":\"81b703f6-524f-4742-922e-4397614eac1c\"}}];\n",
       "    root.Bokeh.embed.embed_items_notebook(docs_json, render_items);\n",
       "  }\n",
       "  if (root.Bokeh !== undefined && root.Bokeh.Panel !== undefined && ( root['Plotly'] !== undefined)) {\n",
       "    embed_document(root);\n",
       "  } else {\n",
       "    var attempts = 0;\n",
       "    var timer = setInterval(function(root) {\n",
       "      if (root.Bokeh !== undefined && root.Bokeh.Panel !== undefined && (root['Plotly'] !== undefined)) {\n",
       "        clearInterval(timer);\n",
       "        embed_document(root);\n",
       "      } else if (document.readyState == \"complete\") {\n",
       "        attempts++;\n",
       "        if (attempts > 200) {\n",
       "          clearInterval(timer);\n",
       "          console.log(\"Bokeh: ERROR: Unable to run BokehJS code because BokehJS library is missing\");\n",
       "        }\n",
       "      }\n",
       "    }, 25, root)\n",
       "  }\n",
       "})(window);</script>"
      ],
      "text/plain": [
       "Tabs\n",
       "    [0] Column\n",
       "        [0] Markdown(str)\n",
       "        [1] Str(AxesSubplot)\n",
       "        [2] HoloViews(Curve)\n",
       "        [3] HoloViews(Curve)\n",
       "    [1] Row\n",
       "        [0] Markdown(str)\n",
       "        [1] Row\n",
       "            [0] Column\n",
       "                [0] WidgetBox\n",
       "                    [0] Select(margin=(20, 20, 20, 20), name='neighborhood', options=['Alamo Square', ...], value='Alamo Square', width=250)\n",
       "                [1] VSpacer()\n",
       "            [1] HoloViews(DynamicMap, widget_location='left_top')\n",
       "    [2] Column\n",
       "        [0] Markdown(str)\n",
       "        [1] Row\n",
       "            [0] HoloViews(DynamicMap)\n",
       "            [1] Column\n",
       "                [0] WidgetBox\n",
       "                    [0] Select(margin=(20, 20, 20, 20), name='neighborhood', options=['Alamo Square', ...], value='Alamo Square', width=250)\n",
       "                [1] VSpacer()\n",
       "        [2] HoloViews(Bars)"
      ]
     },
     "execution_count": 74,
     "metadata": {
      "application/vnd.holoviews_exec.v0+json": {
       "id": "3288"
      }
     },
     "output_type": "execute_result"
    },
    {
     "data": {
      "image/png": "[encoded data removed]",
      "text/plain": [
       "<Figure size 432x288 with 1 Axes>"
      ]
     },
     "metadata": {
      "needs_background": "light"
     },
     "output_type": "display_data"
    }
   ],
   "source": [
    "# Create a Title for the Dashboard\n",
    "dashboard_title = \"# This is my First Dashboard\"\n",
    "\n",
    "column = pn.Column('Number of Housing Units per Year',\n",
    "            housing_units_per_year(),\n",
    "            average_gross_rent(),\n",
    "            average_sales_price()\n",
    ")\n",
    "\n",
    "row1 = pn.Row('#Average Sales/Rent by Neighborhood',\n",
    "             average_price_by_neighborhood(),\n",
    ")\n",
    "\n",
    "# row2 = pn.Row('Map',\n",
    "#              neighborhood_map()\n",
    "# )\n",
    "\n",
    "column1 = pn.Column(\n",
    "    '#Most Expensive Neighborhoods Rent/Sales Comparison',\n",
    "    most_expensive_neighborhoods_rent_sales(),\n",
    "    top_most_expensive_neighborhoods()\n",
    ")\n",
    "\n",
    "\n",
    "# Create a tab layout for the dashboard\n",
    "tabs = pn.Tabs(\n",
    "    #(\"Map\",row2),\n",
    "    (\"Market Value Analysis\",column),\n",
    "    (\"Average Sales/Rent by Neighborhood\", row1),\n",
    "    (\"Most Expensive Neighborhoods Rent/Sales Comparison\",column1))\n",
    "\n",
    "tabs\n",
    "\n",
    "\n",
    "# Create the dashboard"
   ]
  },
  {
   "cell_type": "markdown",
   "metadata": {},
   "source": [
    "## Serve the Panel Dashboard"
   ]
  },
  {
   "cell_type": "code",
   "execution_count": 30,
   "metadata": {},
   "outputs": [
    {
     "data": {},
     "metadata": {},
     "output_type": "display_data"
    },
    {
     "data": {},
     "metadata": {},
     "output_type": "display_data"
    },
    {
     "data": {
      "application/vnd.holoviews_exec.v0+json": "",
      "text/html": [
       "<div id='1826'>\n",
       "\n",
       "\n",
       "\n",
       "\n",
       "\n",
       "  <div class=\"bk-root\" id=\"1e6b4892-a47b-4ac6-8b11-aab79c1e0fd3\" data-root-id=\"1826\"></div>\n",
       "</div>\n",
       "<script type=\"application/javascript\">(function(root) {\n",
       "  function embed_document(root) {\n",
       "    var docs_json = {\"05ab7d15-f5ca-4a66-a994-8dbe85896874\":{\"defs\":[{\"extends\":null,\"module\":null,\"name\":\"ReactiveHTML1\",\"overrides\":[],\"properties\":[]},{\"extends\":null,\"module\":null,\"name\":\"FlexBox1\",\"overrides\":[],\"properties\":[{\"default\":\"flex-start\",\"kind\":null,\"name\":\"align_content\"},{\"default\":\"flex-start\",\"kind\":null,\"name\":\"align_items\"},{\"default\":\"row\",\"kind\":null,\"name\":\"flex_direction\"},{\"default\":\"wrap\",\"kind\":null,\"name\":\"flex_wrap\"},{\"default\":\"flex-start\",\"kind\":null,\"name\":\"justify_content\"}]},{\"extends\":null,\"module\":null,\"name\":\"TemplateActions1\",\"overrides\":[],\"properties\":[{\"default\":0,\"kind\":null,\"name\":\"open_modal\"},{\"default\":0,\"kind\":null,\"name\":\"close_modal\"}]},{\"extends\":null,\"module\":null,\"name\":\"MaterialTemplateActions1\",\"overrides\":[],\"properties\":[{\"default\":0,\"kind\":null,\"name\":\"open_modal\"},{\"default\":0,\"kind\":null,\"name\":\"close_modal\"}]}],\"roots\":{\"references\":[{\"attributes\":{},\"id\":\"2138\",\"type\":\"CategoricalScale\"},{\"attributes\":{\"active_multi\":null,\"tools\":[{\"id\":\"2054\"},{\"id\":\"2071\"},{\"id\":\"2072\"},{\"id\":\"2073\"},{\"id\":\"2074\"},{\"id\":\"2075\"}]},\"id\":\"2077\",\"type\":\"Toolbar\"},{\"attributes\":{\"below\":[{\"id\":\"1842\"}],\"center\":[{\"id\":\"1845\"},{\"id\":\"1849\"}],\"height\":300,\"left\":[{\"id\":\"1846\"}],\"margin\":[5,5,5,5],\"min_border_bottom\":10,\"min_border_left\":10,\"min_border_right\":10,\"min_border_top\":10,\"renderers\":[{\"id\":\"1869\"}],\"sizing_mode\":\"fixed\",\"title\":{\"id\":\"1834\"},\"toolbar\":{\"id\":\"1856\"},\"width\":700,\"x_range\":{\"id\":\"1830\"},\"x_scale\":{\"id\":\"1838\"},\"y_range\":{\"id\":\"1831\"},\"y_scale\":{\"id\":\"1840\"}},\"id\":\"1833\",\"subtype\":\"Figure\",\"type\":\"Plot\"},{\"attributes\":{\"data_source\":{\"id\":\"2007\"},\"glyph\":{\"id\":\"2010\"},\"hover_glyph\":null,\"muted_glyph\":{\"id\":\"2012\"},\"nonselection_glyph\":{\"id\":\"2011\"},\"selection_glyph\":{\"id\":\"2015\"},\"view\":{\"id\":\"2014\"}},\"id\":\"2013\",\"type\":\"GlyphRenderer\"},{\"attributes\":{\"bottom_units\":\"screen\",\"fill_alpha\":0.5,\"fill_color\":\"lightgrey\",\"left_units\":\"screen\",\"level\":\"overlay\",\"line_alpha\":1.0,\"line_color\":\"black\",\"line_dash\":[4,4],\"line_width\":2,\"right_units\":\"screen\",\"syncable\":false,\"top_units\":\"screen\"},\"id\":\"1923\",\"type\":\"BoxAnnotation\"},{\"attributes\":{\"overlay\":{\"id\":\"1999\"}},\"id\":\"1997\",\"type\":\"BoxZoomTool\"},{\"attributes\":{},\"id\":\"2140\",\"type\":\"LinearScale\"},{\"attributes\":{},\"id\":\"1850\",\"type\":\"SaveTool\"},{\"attributes\":{},\"id\":\"2016\",\"type\":\"AllLabels\"},{\"attributes\":{\"axis_label\":\"neighborhood\",\"formatter\":{\"id\":\"2173\"},\"major_label_orientation\":0.7853981633974483,\"major_label_policy\":{\"id\":\"2171\"},\"ticker\":{\"id\":\"2143\"}},\"id\":\"2142\",\"type\":\"CategoricalAxis\"},{\"attributes\":{},\"id\":\"1996\",\"type\":\"WheelZoomTool\"},{\"attributes\":{},\"id\":\"1943\",\"type\":\"AllLabels\"},{\"attributes\":{},\"id\":\"1998\",\"type\":\"ResetTool\"},{\"attributes\":{},\"id\":\"2176\",\"type\":\"BasicTickFormatter\"},{\"attributes\":{},\"id\":\"2075\",\"type\":\"ResetTool\"},{\"attributes\":{\"axis\":{\"id\":\"2145\"},\"dimension\":1,\"grid_line_color\":null,\"ticker\":null},\"id\":\"2148\",\"type\":\"Grid\"},{\"attributes\":{},\"id\":\"2143\",\"type\":\"CategoricalTicker\"},{\"attributes\":{\"css_classes\":[\"markdown\"],\"margin\":[5,5,5,5],\"name\":\"Markdown01748\",\"text\":\"&lt;h1&gt;Average Sales/Rent by Neighborhood&lt;/h1&gt;\"},\"id\":\"1968\",\"type\":\"panel.models.markup.HTML\"},{\"attributes\":{\"axis\":{\"id\":\"2142\"},\"grid_line_color\":null,\"ticker\":null},\"id\":\"2144\",\"type\":\"Grid\"},{\"attributes\":{\"line_color\":\"red\",\"line_width\":2,\"x\":{\"field\":\"year\"},\"y\":{\"field\":\"avg_px_sqr_foot\"}},\"id\":\"1939\",\"type\":\"Line\"},{\"attributes\":{\"children\":[{\"id\":\"1972\"}],\"css_classes\":[\"panel-widget-box\"],\"margin\":[5,5,5,5],\"name\":\"WidgetBox01741\"},\"id\":\"1971\",\"type\":\"Column\"},{\"attributes\":{},\"id\":\"2146\",\"type\":\"BasicTicker\"},{\"attributes\":{\"children\":[{\"id\":\"1968\"},{\"id\":\"1969\"}],\"margin\":[0,0,0,0],\"name\":\"Row01750\"},\"id\":\"1967\",\"type\":\"Row\"},{\"attributes\":{\"axis_label\":\"sale_price_sqr_foot\",\"formatter\":{\"id\":\"2176\"},\"major_label_policy\":{\"id\":\"2174\"},\"ticker\":{\"id\":\"2146\"}},\"id\":\"2145\",\"type\":\"LinearAxis\"},{\"attributes\":{\"children\":[{\"id\":\"2128\"}],\"css_classes\":[\"panel-widget-box\"],\"margin\":[5,5,5,5],\"name\":\"WidgetBox01776\"},\"id\":\"2127\",\"type\":\"Column\"},{\"attributes\":{\"fill_alpha\":{\"value\":0.1},\"fill_color\":{\"value\":\"#30a2da\"},\"line_alpha\":{\"value\":0.1},\"top\":{\"field\":\"sale_price_sqr_foot\"},\"width\":{\"value\":0.8},\"x\":{\"field\":\"neighborhood\"}},\"id\":\"2166\",\"type\":\"VBar\"},{\"attributes\":{},\"id\":\"1940\",\"type\":\"AllLabels\"},{\"attributes\":{},\"id\":\"1954\",\"type\":\"UnionRenderers\"},{\"attributes\":{\"children\":[{\"id\":\"1970\"},{\"id\":\"1977\"}],\"margin\":[0,0,0,0],\"name\":\"Row01740\"},\"id\":\"1969\",\"type\":\"Row\"},{\"attributes\":{\"source\":{\"id\":\"2162\"}},\"id\":\"2169\",\"type\":\"CDSView\"},{\"attributes\":{\"children\":[{\"id\":\"1971\"},{\"id\":\"1973\"}],\"margin\":[0,0,0,0],\"name\":\"Column01747\"},\"id\":\"1970\",\"type\":\"Column\"},{\"attributes\":{\"fill_alpha\":{\"value\":0.2},\"fill_color\":{\"value\":\"#30a2da\"},\"line_alpha\":{\"value\":0.2},\"top\":{\"field\":\"sale_price_sqr_foot\"},\"width\":{\"value\":0.8},\"x\":{\"field\":\"neighborhood\"}},\"id\":\"2167\",\"type\":\"VBar\"},{\"attributes\":{\"overlay\":{\"id\":\"2076\"}},\"id\":\"2074\",\"type\":\"BoxZoomTool\"},{\"attributes\":{\"client_comm_id\":\"24677e46e5e040fa9c0575f855c7a866\",\"comm_id\":\"c5e9a33bc44d435195d2f0e8d45f3dd3\",\"plot_id\":\"1826\"},\"id\":\"2348\",\"type\":\"panel.models.comm_manager.CommManager\"},{\"attributes\":{\"data_source\":{\"id\":\"2162\"},\"glyph\":{\"id\":\"2165\"},\"hover_glyph\":null,\"muted_glyph\":{\"id\":\"2167\"},\"nonselection_glyph\":{\"id\":\"2166\"},\"selection_glyph\":{\"id\":\"2170\"},\"view\":{\"id\":\"2169\"}},\"id\":\"2168\",\"type\":\"GlyphRenderer\"},{\"attributes\":{\"callback\":null,\"renderers\":[{\"id\":\"2168\"}],\"tags\":[\"hv_created\"],\"tooltips\":[[\"neighborhood\",\"@{neighborhood}\"],[\"sale_price_sqr_foot\",\"@{sale_price_sqr_foot}\"]]},\"id\":\"2132\",\"type\":\"HoverTool\"},{\"attributes\":{},\"id\":\"2073\",\"type\":\"WheelZoomTool\"},{\"attributes\":{\"active_multi\":null,\"tools\":[{\"id\":\"2132\"},{\"id\":\"2149\"},{\"id\":\"2150\"},{\"id\":\"2151\"},{\"id\":\"2152\"},{\"id\":\"2153\"}]},\"id\":\"2155\",\"type\":\"Toolbar\"},{\"attributes\":{},\"id\":\"2072\",\"type\":\"PanTool\"},{\"attributes\":{},\"id\":\"1942\",\"type\":\"BasicTickFormatter\"},{\"attributes\":{\"active_multi\":null,\"tools\":[{\"id\":\"1976\"},{\"id\":\"1994\"},{\"id\":\"1995\"},{\"id\":\"1996\"},{\"id\":\"1997\"},{\"id\":\"1998\"}]},\"id\":\"2000\",\"type\":\"Toolbar\"},{\"attributes\":{},\"id\":\"2149\",\"type\":\"SaveTool\"},{\"attributes\":{},\"id\":\"2071\",\"type\":\"SaveTool\"},{\"attributes\":{},\"id\":\"1840\",\"type\":\"LinearScale\"},{\"attributes\":{\"data_source\":{\"id\":\"2085\"},\"glyph\":{\"id\":\"2088\"},\"hover_glyph\":null,\"muted_glyph\":{\"id\":\"2090\"},\"nonselection_glyph\":{\"id\":\"2089\"},\"selection_glyph\":{\"id\":\"2093\"},\"view\":{\"id\":\"2092\"}},\"id\":\"2091\",\"type\":\"GlyphRenderer\"},{\"attributes\":{},\"id\":\"2150\",\"type\":\"PanTool\"},{\"attributes\":{},\"id\":\"1994\",\"type\":\"SaveTool\"},{\"attributes\":{\"source\":{\"id\":\"2085\"}},\"id\":\"2092\",\"type\":\"CDSView\"},{\"attributes\":{\"axis\":{\"id\":\"1842\"},\"grid_line_color\":null,\"ticker\":null},\"id\":\"1845\",\"type\":\"Grid\"},{\"attributes\":{},\"id\":\"2099\",\"type\":\"BasicTickFormatter\"},{\"attributes\":{\"below\":[{\"id\":\"2064\"}],\"center\":[{\"id\":\"2066\"},{\"id\":\"2070\"}],\"height\":300,\"left\":[{\"id\":\"2067\"}],\"margin\":[5,5,5,5],\"min_border_bottom\":10,\"min_border_left\":10,\"min_border_right\":10,\"min_border_top\":10,\"renderers\":[{\"id\":\"2091\"}],\"sizing_mode\":\"fixed\",\"title\":{\"id\":\"2056\"},\"toolbar\":{\"id\":\"2077\"},\"width\":700,\"x_range\":{\"id\":\"2052\"},\"x_scale\":{\"id\":\"2060\"},\"y_range\":{\"id\":\"2053\"},\"y_scale\":{\"id\":\"2062\"}},\"id\":\"2055\",\"subtype\":\"Figure\",\"type\":\"Plot\"},{\"attributes\":{},\"id\":\"2151\",\"type\":\"WheelZoomTool\"},{\"attributes\":{},\"id\":\"1995\",\"type\":\"PanTool\"},{\"attributes\":{\"factors\":[\"avg_px_sqr_foot\",\"avg_rent\"],\"palette\":[\"#30a2da\",\"#fc4f30\"]},\"id\":\"2084\",\"type\":\"CategoricalColorMapper\"},{\"attributes\":{\"margin\":[5,5,5,5],\"name\":\"VSpacer01781\",\"sizing_mode\":\"stretch_height\"},\"id\":\"2129\",\"type\":\"Spacer\"},{\"attributes\":{\"axis_label\":\"Price per SqFt\",\"formatter\":{\"id\":\"1877\"},\"major_label_policy\":{\"id\":\"1875\"},\"ticker\":{\"id\":\"1847\"}},\"id\":\"1846\",\"type\":\"LinearAxis\"},{\"attributes\":{\"children\":[{\"id\":\"2050\"},{\"id\":\"2051\"},{\"id\":\"2133\"}],\"margin\":[0,0,0,0],\"name\":\"Column01863\"},\"id\":\"2049\",\"type\":\"Column\"},{\"attributes\":{\"overlay\":{\"id\":\"2154\"}},\"id\":\"2152\",\"type\":\"BoxZoomTool\"},{\"attributes\":{},\"id\":\"2062\",\"type\":\"LinearScale\"},{\"attributes\":{\"line_alpha\":0.1,\"line_color\":\"#30a2da\",\"line_width\":2,\"x\":{\"field\":\"year\"},\"y\":{\"field\":\"avg_rent\"}},\"id\":\"2011\",\"type\":\"Line\"},{\"attributes\":{\"text\":\"Average Rent by Year\",\"text_color\":\"black\",\"text_font_size\":\"12pt\"},\"id\":\"1834\",\"type\":\"Title\"},{\"attributes\":{\"axis_label\":\"year, Variable\",\"formatter\":{\"id\":\"2096\"},\"major_label_orientation\":1.5707963267948966,\"major_label_policy\":{\"id\":\"2094\"},\"ticker\":{\"id\":\"2065\"}},\"id\":\"2064\",\"type\":\"CategoricalAxis\"},{\"attributes\":{\"bottom\":{\"value\":0},\"fill_alpha\":{\"value\":1.0},\"fill_color\":{\"value\":\"#30a2da\"},\"hatch_alpha\":{\"value\":1.0},\"hatch_color\":{\"value\":\"black\"},\"hatch_scale\":{\"value\":12.0},\"hatch_weight\":{\"value\":1.0},\"line_alpha\":{\"value\":1.0},\"line_cap\":{\"value\":\"butt\"},\"line_color\":{\"value\":\"black\"},\"line_dash\":{\"value\":[]},\"line_dash_offset\":{\"value\":0},\"line_join\":{\"value\":\"bevel\"},\"line_width\":{\"value\":1},\"top\":{\"field\":\"sale_price_sqr_foot\"},\"width\":{\"value\":0.8},\"x\":{\"field\":\"neighborhood\"}},\"id\":\"2170\",\"type\":\"VBar\"},{\"attributes\":{},\"id\":\"1864\",\"type\":\"Selection\"},{\"attributes\":{},\"id\":\"1851\",\"type\":\"PanTool\"},{\"attributes\":{\"fill_color\":{\"field\":\"Variable\",\"transform\":{\"id\":\"2084\"}},\"top\":{\"field\":\"value\"},\"width\":{\"value\":0.8},\"x\":{\"field\":\"xoffsets\"}},\"id\":\"2088\",\"type\":\"VBar\"},{\"attributes\":{\"fill_alpha\":{\"value\":0.1},\"fill_color\":{\"field\":\"Variable\",\"transform\":{\"id\":\"2084\"}},\"line_alpha\":{\"value\":0.1},\"top\":{\"field\":\"value\"},\"width\":{\"value\":0.8},\"x\":{\"field\":\"xoffsets\"}},\"id\":\"2089\",\"type\":\"VBar\"},{\"attributes\":{},\"id\":\"1847\",\"type\":\"BasicTicker\"},{\"attributes\":{\"children\":[{\"id\":\"2127\"},{\"id\":\"2129\"}],\"margin\":[0,0,0,0],\"name\":\"Column01782\"},\"id\":\"2126\",\"type\":\"Column\"},{\"attributes\":{},\"id\":\"2153\",\"type\":\"ResetTool\"},{\"attributes\":{},\"id\":\"2086\",\"type\":\"Selection\"},{\"attributes\":{\"margin\":[0,0,0,0],\"tabs\":[{\"id\":\"1966\"},{\"id\":\"2048\"},{\"id\":\"2197\"}]},\"id\":\"1826\",\"type\":\"Tabs\"},{\"attributes\":{\"axis_label\":\"year\",\"formatter\":{\"id\":\"1874\"},\"major_label_policy\":{\"id\":\"1872\"},\"ticker\":{\"id\":\"1843\"}},\"id\":\"1842\",\"type\":\"LinearAxis\"},{\"attributes\":{\"callback\":null,\"renderers\":[{\"id\":\"1937\"}],\"tags\":[\"hv_created\"],\"tooltips\":[[\"year\",\"@{year}\"],[\"avg_px_sqr_foot\",\"@{avg_px_sqr_foot}\"]]},\"id\":\"1900\",\"type\":\"HoverTool\"},{\"attributes\":{},\"id\":\"2185\",\"type\":\"UnionRenderers\"},{\"attributes\":{\"axis\":{\"id\":\"1846\"},\"dimension\":1,\"grid_line_color\":null,\"ticker\":null},\"id\":\"1849\",\"type\":\"Grid\"},{\"attributes\":{\"fill_alpha\":{\"value\":0.2},\"fill_color\":{\"field\":\"Variable\",\"transform\":{\"id\":\"2084\"}},\"line_alpha\":{\"value\":0.2},\"top\":{\"field\":\"value\"},\"width\":{\"value\":0.8},\"x\":{\"field\":\"xoffsets\"}},\"id\":\"2090\",\"type\":\"VBar\"},{\"attributes\":{\"end\":929.3801355198136,\"reset_end\":929.3801355198136,\"reset_start\":0.0,\"tags\":[[[\"sale_price_sqr_foot\",\"sale_price_sqr_foot\",null]]]},\"id\":\"2131\",\"type\":\"Range1d\"},{\"attributes\":{},\"id\":\"1843\",\"type\":\"BasicTicker\"},{\"attributes\":{\"callback\":null,\"renderers\":[{\"id\":\"2091\"}],\"tags\":[\"hv_created\"],\"tooltips\":[[\"year\",\"@{year}\"],[\"Variable\",\"@{Variable}\"],[\"value\",\"@{value}\"]]},\"id\":\"2054\",\"type\":\"HoverTool\"},{\"attributes\":{\"end\":4705.1,\"reset_end\":4705.1,\"reset_start\":923.9,\"start\":923.9,\"tags\":[[[\"avg_rent\",\"avg_rent\",null]]]},\"id\":\"1831\",\"type\":\"Range1d\"},{\"attributes\":{},\"id\":\"1838\",\"type\":\"LinearScale\"},{\"attributes\":{},\"id\":\"2060\",\"type\":\"CategoricalScale\"},{\"attributes\":{\"end\":4810.690068306854,\"reset_end\":4810.690068306854,\"reset_start\":0.0,\"tags\":[[[\"value\",\"value\",null]]]},\"id\":\"2053\",\"type\":\"Range1d\"},{\"attributes\":{\"text_color\":\"black\",\"text_font_size\":\"12pt\"},\"id\":\"2134\",\"type\":\"Title\"},{\"attributes\":{\"bottom_units\":\"screen\",\"fill_alpha\":0.5,\"fill_color\":\"lightgrey\",\"left_units\":\"screen\",\"level\":\"overlay\",\"line_alpha\":1.0,\"line_color\":\"black\",\"line_dash\":[4,4],\"line_width\":2,\"right_units\":\"screen\",\"syncable\":false,\"top_units\":\"screen\"},\"id\":\"1999\",\"type\":\"BoxAnnotation\"},{\"attributes\":{},\"id\":\"2174\",\"type\":\"AllLabels\"},{\"attributes\":{\"fill_color\":{\"value\":\"#30a2da\"},\"top\":{\"field\":\"sale_price_sqr_foot\"},\"width\":{\"value\":0.8},\"x\":{\"field\":\"neighborhood\"}},\"id\":\"2165\",\"type\":\"VBar\"},{\"attributes\":{\"source\":{\"id\":\"1863\"}},\"id\":\"1870\",\"type\":\"CDSView\"},{\"attributes\":{\"children\":[{\"id\":\"1828\"},{\"id\":\"1829\"},{\"id\":\"1833\"},{\"id\":\"1901\"}],\"margin\":[0,0,0,0],\"name\":\"Column01715\"},\"id\":\"1827\",\"type\":\"Column\"},{\"attributes\":{\"line_color\":\"#30a2da\",\"line_width\":2,\"x\":{\"field\":\"year\"},\"y\":{\"field\":\"avg_rent\"}},\"id\":\"2015\",\"type\":\"Line\"},{\"attributes\":{\"below\":[{\"id\":\"2142\"}],\"center\":[{\"id\":\"2144\"},{\"id\":\"2148\"}],\"height\":300,\"left\":[{\"id\":\"2145\"}],\"margin\":[5,5,5,5],\"min_border_bottom\":10,\"min_border_left\":10,\"min_border_right\":10,\"min_border_top\":10,\"renderers\":[{\"id\":\"2168\"}],\"sizing_mode\":\"fixed\",\"title\":{\"id\":\"2134\"},\"toolbar\":{\"id\":\"2155\"},\"width\":700,\"x_range\":{\"id\":\"2130\"},\"x_scale\":{\"id\":\"2138\"},\"y_range\":{\"id\":\"2131\"},\"y_scale\":{\"id\":\"2140\"}},\"id\":\"2133\",\"subtype\":\"Figure\",\"type\":\"Plot\"},{\"attributes\":{\"callback\":null,\"renderers\":[{\"id\":\"2013\"}],\"tags\":[\"hv_created\"],\"tooltips\":[[\"year\",\"@{year}\"],[\"avg_rent\",\"@{avg_rent}\"]]},\"id\":\"1976\",\"type\":\"HoverTool\"},{\"attributes\":{\"bottom_units\":\"screen\",\"fill_alpha\":0.5,\"fill_color\":\"lightgrey\",\"left_units\":\"screen\",\"level\":\"overlay\",\"line_alpha\":1.0,\"line_color\":\"black\",\"line_dash\":[4,4],\"line_width\":2,\"right_units\":\"screen\",\"syncable\":false,\"top_units\":\"screen\"},\"id\":\"2154\",\"type\":\"BoxAnnotation\"},{\"attributes\":{},\"id\":\"1945\",\"type\":\"BasicTickFormatter\"},{\"attributes\":{\"source\":{\"id\":\"2007\"}},\"id\":\"2014\",\"type\":\"CDSView\"},{\"attributes\":{\"line_alpha\":0.2,\"line_color\":\"green\",\"line_width\":2,\"x\":{\"field\":\"year\"},\"y\":{\"field\":\"avg_rent\"}},\"id\":\"1868\",\"type\":\"Line\"},{\"attributes\":{\"text\":\"neighborhood: Alamo Square\",\"text_color\":\"black\",\"text_font_size\":\"12pt\"},\"id\":\"2056\",\"type\":\"Title\"},{\"attributes\":{\"line_alpha\":0.2,\"line_color\":\"#30a2da\",\"line_width\":2,\"x\":{\"field\":\"year\"},\"y\":{\"field\":\"avg_rent\"}},\"id\":\"2012\",\"type\":\"Line\"},{\"attributes\":{\"axis_label\":\"\",\"formatter\":{\"id\":\"2099\"},\"major_label_policy\":{\"id\":\"2097\"},\"ticker\":{\"id\":\"2068\"}},\"id\":\"2067\",\"type\":\"LinearAxis\"},{\"attributes\":{},\"id\":\"2021\",\"type\":\"BasicTickFormatter\"},{\"attributes\":{\"line_color\":\"green\",\"line_width\":2,\"x\":{\"field\":\"year\"},\"y\":{\"field\":\"avg_rent\"}},\"id\":\"1871\",\"type\":\"Line\"},{\"attributes\":{},\"id\":\"2173\",\"type\":\"CategoricalTickFormatter\"},{\"attributes\":{},\"id\":\"2068\",\"type\":\"BasicTicker\"},{\"attributes\":{\"axis\":{\"id\":\"2067\"},\"dimension\":1,\"grid_line_color\":null,\"ticker\":null},\"id\":\"2070\",\"type\":\"Grid\"},{\"attributes\":{\"axis\":{\"id\":\"2064\"},\"grid_line_color\":null,\"ticker\":null},\"id\":\"2066\",\"type\":\"Grid\"},{\"attributes\":{\"data_source\":{\"id\":\"1863\"},\"glyph\":{\"id\":\"1866\"},\"hover_glyph\":null,\"muted_glyph\":{\"id\":\"1868\"},\"nonselection_glyph\":{\"id\":\"1867\"},\"selection_glyph\":{\"id\":\"1871\"},\"view\":{\"id\":\"1870\"}},\"id\":\"1869\",\"type\":\"GlyphRenderer\"},{\"attributes\":{},\"id\":\"2163\",\"type\":\"Selection\"},{\"attributes\":{},\"id\":\"2018\",\"type\":\"BasicTickFormatter\"},{\"attributes\":{},\"id\":\"2065\",\"type\":\"CategoricalTicker\"},{\"attributes\":{},\"id\":\"2019\",\"type\":\"AllLabels\"},{\"attributes\":{},\"id\":\"2171\",\"type\":\"AllLabels\"},{\"attributes\":{},\"id\":\"2036\",\"type\":\"UnionRenderers\"},{\"attributes\":{\"below\":[{\"id\":\"1910\"}],\"center\":[{\"id\":\"1913\"},{\"id\":\"1917\"}],\"height\":300,\"left\":[{\"id\":\"1914\"}],\"margin\":[5,5,5,5],\"min_border_bottom\":10,\"min_border_left\":10,\"min_border_right\":10,\"min_border_top\":10,\"renderers\":[{\"id\":\"1937\"}],\"sizing_mode\":\"fixed\",\"title\":{\"id\":\"1902\"},\"toolbar\":{\"id\":\"1924\"},\"width\":700,\"x_range\":{\"id\":\"1830\"},\"x_scale\":{\"id\":\"1906\"},\"y_range\":{\"id\":\"1899\"},\"y_scale\":{\"id\":\"1908\"}},\"id\":\"1901\",\"subtype\":\"Figure\",\"type\":\"Plot\"},{\"attributes\":{},\"id\":\"1982\",\"type\":\"LinearScale\"},{\"attributes\":{},\"id\":\"1906\",\"type\":\"LinearScale\"},{\"attributes\":{\"margin\":[5,5,5,5],\"name\":\"VSpacer01746\",\"sizing_mode\":\"stretch_height\"},\"id\":\"1973\",\"type\":\"Spacer\"},{\"attributes\":{},\"id\":\"1852\",\"type\":\"WheelZoomTool\"},{\"attributes\":{\"axis\":{\"id\":\"1986\"},\"grid_line_color\":null,\"ticker\":null},\"id\":\"1989\",\"type\":\"Grid\"},{\"attributes\":{},\"id\":\"2096\",\"type\":\"CategoricalTickFormatter\"},{\"attributes\":{},\"id\":\"2008\",\"type\":\"Selection\"},{\"attributes\":{\"axis_label\":\"year\",\"formatter\":{\"id\":\"1942\"},\"major_label_policy\":{\"id\":\"1940\"},\"ticker\":{\"id\":\"1911\"}},\"id\":\"1910\",\"type\":\"LinearAxis\"},{\"attributes\":{\"factors\":[\"Union Square District\",\"Merced Heights\",\"Miraloma Park\",\"Pacific Heights\",\"Westwood Park\",\"Telegraph Hill\",\"Presidio Heights\",\"Cow Hollow\",\"Potrero Hill\",\"South Beach\"],\"tags\":[[[\"neighborhood\",\"neighborhood\",null]]]},\"id\":\"2130\",\"type\":\"FactorRange\"},{\"attributes\":{},\"id\":\"2097\",\"type\":\"AllLabels\"},{\"attributes\":{\"child\":{\"id\":\"1827\"},\"name\":\"Column01715\",\"title\":\"Market Value Analysis\"},\"id\":\"1966\",\"type\":\"Panel\"},{\"attributes\":{\"callback\":null,\"renderers\":[{\"id\":\"1869\"}],\"tags\":[\"hv_created\"],\"tooltips\":[[\"year\",\"@{year}\"],[\"avg_rent\",\"@{avg_rent}\"]]},\"id\":\"1832\",\"type\":\"HoverTool\"},{\"attributes\":{\"line_alpha\":0.1,\"line_color\":\"red\",\"line_width\":2,\"x\":{\"field\":\"year\"},\"y\":{\"field\":\"avg_px_sqr_foot\"}},\"id\":\"1935\",\"type\":\"Line\"},{\"attributes\":{\"bottom\":{\"value\":0},\"fill_alpha\":{\"value\":1.0},\"fill_color\":{\"field\":\"Variable\",\"transform\":{\"id\":\"2084\"}},\"hatch_alpha\":{\"value\":1.0},\"hatch_color\":{\"value\":\"black\"},\"hatch_scale\":{\"value\":12.0},\"hatch_weight\":{\"value\":1.0},\"line_alpha\":{\"value\":1.0},\"line_cap\":{\"value\":\"butt\"},\"line_color\":{\"value\":\"black\"},\"line_dash\":{\"value\":[]},\"line_dash_offset\":{\"value\":0},\"line_join\":{\"value\":\"bevel\"},\"line_width\":{\"value\":1},\"top\":{\"field\":\"value\"},\"width\":{\"value\":0.8},\"x\":{\"field\":\"xoffsets\"}},\"id\":\"2093\",\"type\":\"VBar\"},{\"attributes\":{\"active_multi\":null,\"tools\":[{\"id\":\"1832\"},{\"id\":\"1850\"},{\"id\":\"1851\"},{\"id\":\"1852\"},{\"id\":\"1853\"},{\"id\":\"1854\"}]},\"id\":\"1856\",\"type\":\"Toolbar\"},{\"attributes\":{\"text\":\"Average Price per Square Foot by Year\",\"text_color\":\"black\",\"text_font_size\":\"12pt\"},\"id\":\"1902\",\"type\":\"Title\"},{\"attributes\":{},\"id\":\"2114\",\"type\":\"UnionRenderers\"},{\"attributes\":{\"child\":{\"id\":\"1967\"},\"name\":\"Row01750\",\"title\":\"Average Sales/Rent by Neighborhood\"},\"id\":\"2048\",\"type\":\"Panel\"},{\"attributes\":{},\"id\":\"1984\",\"type\":\"LinearScale\"},{\"attributes\":{\"bottom_units\":\"screen\",\"fill_alpha\":0.5,\"fill_color\":\"lightgrey\",\"left_units\":\"screen\",\"level\":\"overlay\",\"line_alpha\":1.0,\"line_color\":\"black\",\"line_dash\":[4,4],\"line_width\":2,\"right_units\":\"screen\",\"syncable\":false,\"top_units\":\"screen\"},\"id\":\"2076\",\"type\":\"BoxAnnotation\"},{\"attributes\":{},\"id\":\"1908\",\"type\":\"LinearScale\"},{\"attributes\":{},\"id\":\"2094\",\"type\":\"AllLabels\"},{\"attributes\":{\"axis\":{\"id\":\"1914\"},\"dimension\":1,\"grid_line_color\":null,\"ticker\":null},\"id\":\"1917\",\"type\":\"Grid\"},{\"attributes\":{\"line_alpha\":0.1,\"line_color\":\"green\",\"line_width\":2,\"x\":{\"field\":\"year\"},\"y\":{\"field\":\"avg_rent\"}},\"id\":\"1867\",\"type\":\"Line\"},{\"attributes\":{\"margin\":[20,20,20,20],\"min_width\":250,\"options\":[\"Alamo Square\",\"Anza Vista\",\"Bayview\",\"Buena Vista Park\",\"Central Richmond\",\"Central Sunset\",\"Corona Heights\",\"Cow Hollow\",\"Croker Amazon\",\"Diamond Heights\",\"Downtown \",\"Eureka Valley/Dolores Heights\",\"Excelsior\",\"Financial District North\",\"Financial District South\",\"Forest Knolls\",\"Glen Park\",\"Golden Gate Heights\",\"Haight Ashbury\",\"Hayes Valley\",\"Hunters Point\",\"Ingleside \",\"Inner Mission\",\"Inner Parkside\",\"Inner Richmond\",\"Inner Sunset\",\"Jordan Park/Laurel Heights\",\"Lake --The Presidio\",\"Lone Mountain\",\"Lower Pacific Heights\",\"Marina\",\"Miraloma Park\",\"Mission Bay\",\"Mission Dolores\",\"Mission Terrace\",\"Nob Hill\",\"Noe Valley\",\"Oceanview\",\"Outer Parkside\",\"Outer Richmond \",\"Outer Sunset\",\"Pacific Heights\",\"Park North\",\"Parkside\",\"Parnassus/Ashbury Heights\",\"Portola\",\"Potrero Hill\",\"Presidio Heights\",\"Russian Hill\",\"South Beach\",\"South of Market\",\"Sunnyside\",\"Telegraph Hill\",\"Twin Peaks\",\"Union Square District\",\"Van Ness/ Civic Center\",\"West Portal\",\"Western Addition\",\"Yerba Buena\",\"Bernal Heights\",\"Clarendon Heights\",\"Duboce Triangle\",\"Ingleside Heights\",\"North Beach\",\"North Waterfront\",\"Outer Mission\",\"Westwood Highlands\",\"Bernal Heights \",\"Merced Heights\",\"Midtown Terrace\",\"Visitacion Valley\",\"Silver Terrace\",\"Westwood Park\",\"Bayview Heights\"],\"title\":\"neighborhood\",\"value\":\"Alamo Square\",\"width\":250},\"id\":\"1972\",\"type\":\"Select\"},{\"attributes\":{\"data\":{\"Variable\":[\"avg_px_sqr_foot\",\"avg_px_sqr_foot\",\"avg_px_sqr_foot\",\"avg_px_sqr_foot\",\"avg_px_sqr_foot\",\"avg_px_sqr_foot\",\"avg_px_sqr_foot\",\"avg_rent\",\"avg_rent\",\"avg_rent\",\"avg_rent\",\"avg_rent\",\"avg_rent\",\"avg_rent\"],\"value\":{\"__ndarray__\":\"DUc7WO0yckCafszcbwhxQIKRs5ot42ZAKDog0LQ8eEAVMinKGEd+QI4V5FDt0IJAVCHcmLVPdUAAAAAAAFyTQAAAAAAA6JdAAAAAAAAookAAAAAAADanQAAAAAAAkKtAAAAAAAA2rUAAAAAAACaxQA==\",\"dtype\":\"float64\",\"order\":\"little\",\"shape\":[14]},\"xoffsets\":[[\"2010\",\"avg_px_sqr_foot\"],[\"2011\",\"avg_px_sqr_foot\"],[\"2012\",\"avg_px_sqr_foot\"],[\"2013\",\"avg_px_sqr_foot\"],[\"2014\",\"avg_px_sqr_foot\"],[\"2015\",\"avg_px_sqr_foot\"],[\"2016\",\"avg_px_sqr_foot\"],[\"2010\",\"avg_rent\"],[\"2011\",\"avg_rent\"],[\"2012\",\"avg_rent\"],[\"2013\",\"avg_rent\"],[\"2014\",\"avg_rent\"],[\"2015\",\"avg_rent\"],[\"2016\",\"avg_rent\"]],\"year\":[\"2010\",\"2011\",\"2012\",\"2013\",\"2014\",\"2015\",\"2016\",\"2010\",\"2011\",\"2012\",\"2013\",\"2014\",\"2015\",\"2016\"]},\"selected\":{\"id\":\"2086\"},\"selection_policy\":{\"id\":\"2114\"}},\"id\":\"2085\",\"type\":\"ColumnDataSource\"},{\"attributes\":{\"margin\":[20,20,20,20],\"min_width\":250,\"options\":[\"Alamo Square\",\"Anza Vista\",\"Bayview\",\"Buena Vista Park\",\"Central Richmond\",\"Central Sunset\",\"Corona Heights\",\"Cow Hollow\",\"Croker Amazon\",\"Diamond Heights\",\"Downtown \",\"Eureka Valley/Dolores Heights\",\"Excelsior\",\"Financial District North\",\"Financial District South\",\"Forest Knolls\",\"Glen Park\",\"Golden Gate Heights\",\"Haight Ashbury\",\"Hayes Valley\",\"Hunters Point\",\"Ingleside \",\"Inner Mission\",\"Inner Parkside\",\"Inner Richmond\",\"Inner Sunset\",\"Jordan Park/Laurel Heights\",\"Lake --The Presidio\",\"Lone Mountain\",\"Lower Pacific Heights\",\"Marina\",\"Miraloma Park\",\"Mission Bay\",\"Mission Dolores\",\"Mission Terrace\",\"Nob Hill\",\"Noe Valley\",\"Oceanview\",\"Outer Parkside\",\"Outer Richmond \",\"Outer Sunset\",\"Pacific Heights\",\"Park North\",\"Parkside\",\"Parnassus/Ashbury Heights\",\"Portola\",\"Potrero Hill\",\"Presidio Heights\",\"Russian Hill\",\"South Beach\",\"South of Market\",\"Sunnyside\",\"Telegraph Hill\",\"Twin Peaks\",\"Union Square District\",\"Van Ness/ Civic Center\",\"West Portal\",\"Western Addition\",\"Yerba Buena\",\"Bernal Heights\",\"Clarendon Heights\",\"Duboce Triangle\",\"Ingleside Heights\",\"North Beach\",\"North Waterfront\",\"Outer Mission\",\"Westwood Highlands\",\"Bernal Heights \",\"Merced Heights\",\"Midtown Terrace\",\"Visitacion Valley\",\"Silver Terrace\",\"Westwood Park\",\"Bayview Heights\"],\"title\":\"neighborhood\",\"value\":\"Alamo Square\",\"width\":250},\"id\":\"2128\",\"type\":\"Select\"},{\"attributes\":{},\"id\":\"1872\",\"type\":\"AllLabels\"},{\"attributes\":{},\"id\":\"1911\",\"type\":\"BasicTicker\"},{\"attributes\":{\"text\":\"neighborhood: Alamo Square\",\"text_color\":\"black\",\"text_font_size\":\"12pt\"},\"id\":\"1978\",\"type\":\"Title\"},{\"attributes\":{\"css_classes\":[\"markdown\"],\"margin\":[5,5,5,5],\"name\":\"Markdown01856\",\"text\":\"&lt;h1&gt;Most Expensive Neighborhoods Rent/Sales Comparison&lt;/h1&gt;\"},\"id\":\"2050\",\"type\":\"panel.models.markup.HTML\"},{\"attributes\":{\"below\":[{\"id\":\"1986\"}],\"center\":[{\"id\":\"1989\"},{\"id\":\"1993\"}],\"height\":300,\"left\":[{\"id\":\"1990\"}],\"margin\":[5,5,5,5],\"min_border_bottom\":10,\"min_border_left\":10,\"min_border_right\":10,\"min_border_top\":10,\"renderers\":[{\"id\":\"2013\"}],\"sizing_mode\":\"fixed\",\"title\":{\"id\":\"1978\"},\"toolbar\":{\"id\":\"2000\"},\"width\":700,\"x_range\":{\"id\":\"1830\"},\"x_scale\":{\"id\":\"1982\"},\"y_range\":{\"id\":\"1831\"},\"y_scale\":{\"id\":\"1984\"}},\"id\":\"1977\",\"subtype\":\"Figure\",\"type\":\"Plot\"},{\"attributes\":{\"line_color\":\"red\",\"line_width\":2,\"x\":{\"field\":\"year\"},\"y\":{\"field\":\"avg_px_sqr_foot\"}},\"id\":\"1934\",\"type\":\"Line\"},{\"attributes\":{\"data\":{\"avg_px_sqr_foot\":{\"__ndarray__\":\"tQKjeIIVd0Do7CdydF51QGdijk899nhAaBKk2Jo5fkDHKCTbN2KBQPETFqRSxINATx33UCbNhUA=\",\"dtype\":\"float64\",\"order\":\"little\",\"shape\":[7]},\"year\":[2010,2011,2012,2013,2014,2015,2016]},\"selected\":{\"id\":\"1932\"},\"selection_policy\":{\"id\":\"1954\"}},\"id\":\"1931\",\"type\":\"ColumnDataSource\"},{\"attributes\":{\"axis\":{\"id\":\"1990\"},\"dimension\":1,\"grid_line_color\":null,\"ticker\":null},\"id\":\"1993\",\"type\":\"Grid\"},{\"attributes\":{\"children\":[{\"id\":\"2055\"},{\"id\":\"2126\"}],\"margin\":[0,0,0,0],\"name\":\"Row01775\"},\"id\":\"2051\",\"type\":\"Row\"},{\"attributes\":{\"axis\":{\"id\":\"1910\"},\"grid_line_color\":null,\"ticker\":null},\"id\":\"1913\",\"type\":\"Grid\"},{\"attributes\":{\"axis_label\":\"avg_rent\",\"formatter\":{\"id\":\"2021\"},\"major_label_policy\":{\"id\":\"2019\"},\"ticker\":{\"id\":\"1991\"}},\"id\":\"1990\",\"type\":\"LinearAxis\"},{\"attributes\":{},\"id\":\"1877\",\"type\":\"BasicTickFormatter\"},{\"attributes\":{\"end\":733.2177371101801,\"reset_end\":733.2177371101801,\"reset_start\":306.3294011864627,\"start\":306.3294011864627,\"tags\":[[[\"avg_px_sqr_foot\",\"avg_px_sqr_foot\",null]]]},\"id\":\"1899\",\"type\":\"Range1d\"},{\"attributes\":{\"line_color\":\"green\",\"line_width\":2,\"x\":{\"field\":\"year\"},\"y\":{\"field\":\"avg_rent\"}},\"id\":\"1866\",\"type\":\"Line\"},{\"attributes\":{\"axis_label\":\"Price per SqFt\",\"formatter\":{\"id\":\"1945\"},\"major_label_policy\":{\"id\":\"1943\"},\"ticker\":{\"id\":\"1915\"}},\"id\":\"1914\",\"type\":\"LinearAxis\"},{\"attributes\":{\"axis_label\":\"year\",\"formatter\":{\"id\":\"2018\"},\"major_label_policy\":{\"id\":\"2016\"},\"ticker\":{\"id\":\"1987\"}},\"id\":\"1986\",\"type\":\"LinearAxis\"},{\"attributes\":{\"line_alpha\":0.2,\"line_color\":\"red\",\"line_width\":2,\"x\":{\"field\":\"year\"},\"y\":{\"field\":\"avg_px_sqr_foot\"}},\"id\":\"1936\",\"type\":\"Line\"},{\"attributes\":{},\"id\":\"1915\",\"type\":\"BasicTicker\"},{\"attributes\":{\"factors\":[[\"2010\",\"avg_px_sqr_foot\"],[\"2010\",\"avg_rent\"],[\"2011\",\"avg_px_sqr_foot\"],[\"2011\",\"avg_rent\"],[\"2012\",\"avg_px_sqr_foot\"],[\"2012\",\"avg_rent\"],[\"2013\",\"avg_px_sqr_foot\"],[\"2013\",\"avg_rent\"],[\"2014\",\"avg_px_sqr_foot\"],[\"2014\",\"avg_rent\"],[\"2015\",\"avg_px_sqr_foot\"],[\"2015\",\"avg_rent\"],[\"2016\",\"avg_px_sqr_foot\"],[\"2016\",\"avg_rent\"]],\"tags\":[[[\"year\",\"year\",null],[\"Variable\",\"Variable\",null]]]},\"id\":\"2052\",\"type\":\"FactorRange\"},{\"attributes\":{},\"id\":\"1991\",\"type\":\"BasicTicker\"},{\"attributes\":{\"active_multi\":null,\"tools\":[{\"id\":\"1900\"},{\"id\":\"1918\"},{\"id\":\"1919\"},{\"id\":\"1920\"},{\"id\":\"1921\"},{\"id\":\"1922\"}]},\"id\":\"1924\",\"type\":\"Toolbar\"},{\"attributes\":{\"end\":2016.0,\"reset_end\":2016.0,\"reset_start\":2010.0,\"start\":2010.0,\"tags\":[[[\"year\",\"year\",null]]]},\"id\":\"1830\",\"type\":\"Range1d\"},{\"attributes\":{\"source\":{\"id\":\"1931\"}},\"id\":\"1938\",\"type\":\"CDSView\"},{\"attributes\":{\"data_source\":{\"id\":\"1931\"},\"glyph\":{\"id\":\"1934\"},\"hover_glyph\":null,\"muted_glyph\":{\"id\":\"1936\"},\"nonselection_glyph\":{\"id\":\"1935\"},\"selection_glyph\":{\"id\":\"1939\"},\"view\":{\"id\":\"1938\"}},\"id\":\"1937\",\"type\":\"GlyphRenderer\"},{\"attributes\":{\"margin\":[5,5,5,5],\"name\":\"Str01703\",\"text\":\"&lt;pre&gt;AxesSubplot(0.125,0.125;0.775x0.755)&lt;/pre&gt;\"},\"id\":\"1829\",\"type\":\"panel.models.markup.HTML\"},{\"attributes\":{},\"id\":\"1918\",\"type\":\"SaveTool\"},{\"attributes\":{\"line_color\":\"#30a2da\",\"line_width\":2,\"x\":{\"field\":\"year\"},\"y\":{\"field\":\"avg_rent\"}},\"id\":\"2010\",\"type\":\"Line\"},{\"attributes\":{},\"id\":\"1919\",\"type\":\"PanTool\"},{\"attributes\":{},\"id\":\"1854\",\"type\":\"ResetTool\"},{\"attributes\":{\"child\":{\"id\":\"2049\"},\"name\":\"Column01863\",\"title\":\"Most Expensive Neighborhoods Rent/Sales Comparison\"},\"id\":\"2197\",\"type\":\"Panel\"},{\"attributes\":{},\"id\":\"1920\",\"type\":\"WheelZoomTool\"},{\"attributes\":{},\"id\":\"1875\",\"type\":\"AllLabels\"},{\"attributes\":{\"overlay\":{\"id\":\"1923\"}},\"id\":\"1921\",\"type\":\"BoxZoomTool\"},{\"attributes\":{\"overlay\":{\"id\":\"1855\"}},\"id\":\"1853\",\"type\":\"BoxZoomTool\"},{\"attributes\":{\"data\":{\"avg_rent\":[1239,1530,2324,2971,3528,3739,4390],\"year\":[2010,2011,2012,2013,2014,2015,2016]},\"selected\":{\"id\":\"1864\"},\"selection_policy\":{\"id\":\"1886\"}},\"id\":\"1863\",\"type\":\"ColumnDataSource\"},{\"attributes\":{},\"id\":\"1987\",\"type\":\"BasicTicker\"},{\"attributes\":{},\"id\":\"1922\",\"type\":\"ResetTool\"},{\"attributes\":{\"data\":{\"neighborhood\":[\"Union Square District\",\"Merced Heights\",\"Miraloma Park\",\"Pacific Heights\",\"Westwood Park\",\"Telegraph Hill\",\"Presidio Heights\",\"Cow Hollow\",\"Potrero Hill\",\"South Beach\"],\"sale_price_sqr_foot\":{\"__ndarray__\":\"JRAUMfI/jEB9IrkvwqaIQFx/3pp8XohAFZsVUHKMhUBr0ERas3iFQLsKhXgNJIVAy835O80ahUALV25bts+EQJrMCuEbsIRAya3y7v5QhEA=\",\"dtype\":\"float64\",\"order\":\"little\",\"shape\":[10]}},\"selected\":{\"id\":\"2163\"},\"selection_policy\":{\"id\":\"2185\"}},\"id\":\"2162\",\"type\":\"ColumnDataSource\"},{\"attributes\":{\"css_classes\":[\"markdown\"],\"margin\":[5,5,5,5],\"name\":\"Markdown01701\",\"text\":\"&lt;p&gt;Number of Housing Units per Year&lt;/p&gt;\"},\"id\":\"1828\",\"type\":\"panel.models.markup.HTML\"},{\"attributes\":{},\"id\":\"1874\",\"type\":\"BasicTickFormatter\"},{\"attributes\":{\"data\":{\"avg_rent\":[1239,1530,2324,2971,3528,3739,4390],\"year\":[2010,2011,2012,2013,2014,2015,2016]},\"selected\":{\"id\":\"2008\"},\"selection_policy\":{\"id\":\"2036\"}},\"id\":\"2007\",\"type\":\"ColumnDataSource\"},{\"attributes\":{},\"id\":\"1932\",\"type\":\"Selection\"},{\"attributes\":{\"bottom_units\":\"screen\",\"fill_alpha\":0.5,\"fill_color\":\"lightgrey\",\"left_units\":\"screen\",\"level\":\"overlay\",\"line_alpha\":1.0,\"line_color\":\"black\",\"line_dash\":[4,4],\"line_width\":2,\"right_units\":\"screen\",\"syncable\":false,\"top_units\":\"screen\"},\"id\":\"1855\",\"type\":\"BoxAnnotation\"},{\"attributes\":{},\"id\":\"1886\",\"type\":\"UnionRenderers\"}],\"root_ids\":[\"1826\",\"2348\"]},\"title\":\"Bokeh Application\",\"version\":\"2.3.2\"}};\n",
       "    var render_items = [{\"docid\":\"05ab7d15-f5ca-4a66-a994-8dbe85896874\",\"root_ids\":[\"1826\"],\"roots\":{\"1826\":\"1e6b4892-a47b-4ac6-8b11-aab79c1e0fd3\"}}];\n",
       "    root.Bokeh.embed.embed_items_notebook(docs_json, render_items);\n",
       "  }\n",
       "  if (root.Bokeh !== undefined && root.Bokeh.Panel !== undefined && ( root['Plotly'] !== undefined)) {\n",
       "    embed_document(root);\n",
       "  } else {\n",
       "    var attempts = 0;\n",
       "    var timer = setInterval(function(root) {\n",
       "      if (root.Bokeh !== undefined && root.Bokeh.Panel !== undefined && (root['Plotly'] !== undefined)) {\n",
       "        clearInterval(timer);\n",
       "        embed_document(root);\n",
       "      } else if (document.readyState == \"complete\") {\n",
       "        attempts++;\n",
       "        if (attempts > 200) {\n",
       "          clearInterval(timer);\n",
       "          console.log(\"Bokeh: ERROR: Unable to run BokehJS code because BokehJS library is missing\");\n",
       "        }\n",
       "      }\n",
       "    }, 25, root)\n",
       "  }\n",
       "})(window);</script>"
      ],
      "text/plain": [
       "Tabs\n",
       "    [0] Column\n",
       "        [0] Markdown(str)\n",
       "        [1] Str(AxesSubplot)\n",
       "        [2] HoloViews(Curve)\n",
       "        [3] HoloViews(Curve)\n",
       "    [1] Row\n",
       "        [0] Markdown(str)\n",
       "        [1] Row\n",
       "            [0] Column\n",
       "                [0] WidgetBox\n",
       "                    [0] Select(margin=(20, 20, 20, 20), name='neighborhood', options=['Alamo Square', ...], value='Alamo Square', width=250)\n",
       "                [1] VSpacer()\n",
       "            [1] HoloViews(DynamicMap, widget_location='left_top')\n",
       "    [2] Column\n",
       "        [0] Markdown(str)\n",
       "        [1] Row\n",
       "            [0] HoloViews(DynamicMap)\n",
       "            [1] Column\n",
       "                [0] WidgetBox\n",
       "                    [0] Select(margin=(20, 20, 20, 20), name='neighborhood', options=['Alamo Square', ...], value='Alamo Square', width=250)\n",
       "                [1] VSpacer()\n",
       "        [2] HoloViews(Bars)"
      ]
     },
     "execution_count": 30,
     "metadata": {
      "application/vnd.holoviews_exec.v0+json": {
       "id": "1826"
      }
     },
     "output_type": "execute_result"
    }
   ],
   "source": [
    "# Serve the# dashboard\n",
    "tabs.servable()"
   ]
  },
  {
   "cell_type": "markdown",
   "metadata": {},
   "source": [
    "# Debugging\n",
    "\n",
    "Note: Some of the Plotly express plots may not render in the notebook through the panel functions.\n",
    "\n",
    "However, you can test each plot by uncommenting the following code"
   ]
  },
  {
   "cell_type": "code",
   "execution_count": 31,
   "metadata": {},
   "outputs": [
    {
     "data": {
      "text/plain": [
       "<matplotlib.axes._subplots.AxesSubplot at 0x7fed38b99850>"
      ]
     },
     "execution_count": 31,
     "metadata": {},
     "output_type": "execute_result"
    },
    {
     "data": {
      "image/png": "[encoded data removed]",
      "text/plain": [
       "<Figure size 432x288 with 1 Axes>"
      ]
     },
     "metadata": {
      "needs_background": "light"
     },
     "output_type": "display_data"
    }
   ],
   "source": [
    "housing_units_per_year()"
   ]
  },
  {
   "cell_type": "code",
   "execution_count": 32,
   "metadata": {},
   "outputs": [
    {
     "data": {},
     "metadata": {},
     "output_type": "display_data"
    },
    {
     "data": {
      "application/vnd.holoviews_exec.v0+json": "",
      "text/html": [
       "<div id='2599'>\n",
       "\n",
       "\n",
       "\n",
       "\n",
       "\n",
       "  <div class=\"bk-root\" id=\"ea803150-4410-4853-ba2b-80d29a8ddcb7\" data-root-id=\"2599\"></div>\n",
       "</div>\n",
       "<script type=\"application/javascript\">(function(root) {\n",
       "  function embed_document(root) {\n",
       "    var docs_json = {\"99566327-218d-469a-91b9-94be7b809724\":{\"defs\":[{\"extends\":null,\"module\":null,\"name\":\"ReactiveHTML1\",\"overrides\":[],\"properties\":[]},{\"extends\":null,\"module\":null,\"name\":\"FlexBox1\",\"overrides\":[],\"properties\":[{\"default\":\"flex-start\",\"kind\":null,\"name\":\"align_content\"},{\"default\":\"flex-start\",\"kind\":null,\"name\":\"align_items\"},{\"default\":\"row\",\"kind\":null,\"name\":\"flex_direction\"},{\"default\":\"wrap\",\"kind\":null,\"name\":\"flex_wrap\"},{\"default\":\"flex-start\",\"kind\":null,\"name\":\"justify_content\"}]},{\"extends\":null,\"module\":null,\"name\":\"TemplateActions1\",\"overrides\":[],\"properties\":[{\"default\":0,\"kind\":null,\"name\":\"open_modal\"},{\"default\":0,\"kind\":null,\"name\":\"close_modal\"}]},{\"extends\":null,\"module\":null,\"name\":\"MaterialTemplateActions1\",\"overrides\":[],\"properties\":[{\"default\":0,\"kind\":null,\"name\":\"open_modal\"},{\"default\":0,\"kind\":null,\"name\":\"close_modal\"}]}],\"roots\":{\"references\":[{\"attributes\":{},\"id\":\"2622\",\"type\":\"PanTool\"},{\"attributes\":{},\"id\":\"2657\",\"type\":\"UnionRenderers\"},{\"attributes\":{},\"id\":\"2623\",\"type\":\"WheelZoomTool\"},{\"attributes\":{},\"id\":\"2648\",\"type\":\"BasicTickFormatter\"},{\"attributes\":{\"children\":[{\"id\":\"2600\"},{\"id\":\"2604\"},{\"id\":\"2669\"}],\"margin\":[0,0,0,0],\"name\":\"Row03380\",\"tags\":[\"embedded\"]},\"id\":\"2599\",\"type\":\"Row\"},{\"attributes\":{\"below\":[{\"id\":\"2613\"}],\"center\":[{\"id\":\"2616\"},{\"id\":\"2620\"}],\"height\":300,\"left\":[{\"id\":\"2617\"}],\"margin\":[5,5,5,5],\"min_border_bottom\":10,\"min_border_left\":10,\"min_border_right\":10,\"min_border_top\":10,\"renderers\":[{\"id\":\"2640\"}],\"sizing_mode\":\"fixed\",\"title\":{\"id\":\"2605\"},\"toolbar\":{\"id\":\"2627\"},\"width\":700,\"x_range\":{\"id\":\"2601\"},\"x_scale\":{\"id\":\"2609\"},\"y_range\":{\"id\":\"2602\"},\"y_scale\":{\"id\":\"2611\"}},\"id\":\"2604\",\"subtype\":\"Figure\",\"type\":\"Plot\"},{\"attributes\":{\"overlay\":{\"id\":\"2626\"}},\"id\":\"2624\",\"type\":\"BoxZoomTool\"},{\"attributes\":{\"axis_label\":\"year\",\"formatter\":{\"id\":\"2645\"},\"major_label_policy\":{\"id\":\"2643\"},\"ticker\":{\"id\":\"2614\"}},\"id\":\"2613\",\"type\":\"LinearAxis\"},{\"attributes\":{\"line_alpha\":0.1,\"line_color\":\"green\",\"line_width\":2,\"x\":{\"field\":\"year\"},\"y\":{\"field\":\"avg_rent\"}},\"id\":\"2638\",\"type\":\"Line\"},{\"attributes\":{\"data\":{\"avg_rent\":[1239,1530,2324,2971,3528,3739,4390],\"year\":[2010,2011,2012,2013,2014,2015,2016]},\"selected\":{\"id\":\"2635\"},\"selection_policy\":{\"id\":\"2657\"}},\"id\":\"2634\",\"type\":\"ColumnDataSource\"},{\"attributes\":{\"text\":\"Average Rent by Year\",\"text_color\":\"black\",\"text_font_size\":\"12pt\"},\"id\":\"2605\",\"type\":\"Title\"},{\"attributes\":{},\"id\":\"2643\",\"type\":\"AllLabels\"},{\"attributes\":{},\"id\":\"2609\",\"type\":\"LinearScale\"},{\"attributes\":{},\"id\":\"2625\",\"type\":\"ResetTool\"},{\"attributes\":{},\"id\":\"2635\",\"type\":\"Selection\"},{\"attributes\":{\"margin\":[5,5,5,5],\"name\":\"HSpacer03385\",\"sizing_mode\":\"stretch_width\"},\"id\":\"2669\",\"type\":\"Spacer\"},{\"attributes\":{},\"id\":\"2611\",\"type\":\"LinearScale\"},{\"attributes\":{},\"id\":\"2645\",\"type\":\"BasicTickFormatter\"},{\"attributes\":{\"end\":2016.0,\"reset_end\":2016.0,\"reset_start\":2010.0,\"start\":2010.0,\"tags\":[[[\"year\",\"year\",null]]]},\"id\":\"2601\",\"type\":\"Range1d\"},{\"attributes\":{\"axis\":{\"id\":\"2617\"},\"dimension\":1,\"grid_line_color\":null,\"ticker\":null},\"id\":\"2620\",\"type\":\"Grid\"},{\"attributes\":{},\"id\":\"2614\",\"type\":\"BasicTicker\"},{\"attributes\":{\"axis\":{\"id\":\"2613\"},\"grid_line_color\":null,\"ticker\":null},\"id\":\"2616\",\"type\":\"Grid\"},{\"attributes\":{\"line_color\":\"green\",\"line_width\":2,\"x\":{\"field\":\"year\"},\"y\":{\"field\":\"avg_rent\"}},\"id\":\"2637\",\"type\":\"Line\"},{\"attributes\":{},\"id\":\"2618\",\"type\":\"BasicTicker\"},{\"attributes\":{\"end\":4705.1,\"reset_end\":4705.1,\"reset_start\":923.9,\"start\":923.9,\"tags\":[[[\"avg_rent\",\"avg_rent\",null]]]},\"id\":\"2602\",\"type\":\"Range1d\"},{\"attributes\":{\"axis_label\":\"Price per SqFt\",\"formatter\":{\"id\":\"2648\"},\"major_label_policy\":{\"id\":\"2646\"},\"ticker\":{\"id\":\"2618\"}},\"id\":\"2617\",\"type\":\"LinearAxis\"},{\"attributes\":{\"callback\":null,\"renderers\":[{\"id\":\"2640\"}],\"tags\":[\"hv_created\"],\"tooltips\":[[\"year\",\"@{year}\"],[\"avg_rent\",\"@{avg_rent}\"]]},\"id\":\"2603\",\"type\":\"HoverTool\"},{\"attributes\":{\"line_alpha\":0.2,\"line_color\":\"green\",\"line_width\":2,\"x\":{\"field\":\"year\"},\"y\":{\"field\":\"avg_rent\"}},\"id\":\"2639\",\"type\":\"Line\"},{\"attributes\":{\"bottom_units\":\"screen\",\"fill_alpha\":0.5,\"fill_color\":\"lightgrey\",\"left_units\":\"screen\",\"level\":\"overlay\",\"line_alpha\":1.0,\"line_color\":\"black\",\"line_dash\":[4,4],\"line_width\":2,\"right_units\":\"screen\",\"syncable\":false,\"top_units\":\"screen\"},\"id\":\"2626\",\"type\":\"BoxAnnotation\"},{\"attributes\":{\"margin\":[5,5,5,5],\"name\":\"HSpacer03384\",\"sizing_mode\":\"stretch_width\"},\"id\":\"2600\",\"type\":\"Spacer\"},{\"attributes\":{\"source\":{\"id\":\"2634\"}},\"id\":\"2641\",\"type\":\"CDSView\"},{\"attributes\":{},\"id\":\"2646\",\"type\":\"AllLabels\"},{\"attributes\":{\"active_multi\":null,\"tools\":[{\"id\":\"2603\"},{\"id\":\"2621\"},{\"id\":\"2622\"},{\"id\":\"2623\"},{\"id\":\"2624\"},{\"id\":\"2625\"}]},\"id\":\"2627\",\"type\":\"Toolbar\"},{\"attributes\":{\"data_source\":{\"id\":\"2634\"},\"glyph\":{\"id\":\"2637\"},\"hover_glyph\":null,\"muted_glyph\":{\"id\":\"2639\"},\"nonselection_glyph\":{\"id\":\"2638\"},\"selection_glyph\":{\"id\":\"2642\"},\"view\":{\"id\":\"2641\"}},\"id\":\"2640\",\"type\":\"GlyphRenderer\"},{\"attributes\":{},\"id\":\"2621\",\"type\":\"SaveTool\"},{\"attributes\":{\"line_color\":\"green\",\"line_width\":2,\"x\":{\"field\":\"year\"},\"y\":{\"field\":\"avg_rent\"}},\"id\":\"2642\",\"type\":\"Line\"}],\"root_ids\":[\"2599\"]},\"title\":\"Bokeh Application\",\"version\":\"2.3.2\"}};\n",
       "    var render_items = [{\"docid\":\"99566327-218d-469a-91b9-94be7b809724\",\"root_ids\":[\"2599\"],\"roots\":{\"2599\":\"ea803150-4410-4853-ba2b-80d29a8ddcb7\"}}];\n",
       "    root.Bokeh.embed.embed_items_notebook(docs_json, render_items);\n",
       "  }\n",
       "  if (root.Bokeh !== undefined && root.Bokeh.Panel !== undefined && ( root['Plotly'] !== undefined)) {\n",
       "    embed_document(root);\n",
       "  } else {\n",
       "    var attempts = 0;\n",
       "    var timer = setInterval(function(root) {\n",
       "      if (root.Bokeh !== undefined && root.Bokeh.Panel !== undefined && (root['Plotly'] !== undefined)) {\n",
       "        clearInterval(timer);\n",
       "        embed_document(root);\n",
       "      } else if (document.readyState == \"complete\") {\n",
       "        attempts++;\n",
       "        if (attempts > 200) {\n",
       "          clearInterval(timer);\n",
       "          console.log(\"Bokeh: ERROR: Unable to run BokehJS code because BokehJS library is missing\");\n",
       "        }\n",
       "      }\n",
       "    }, 25, root)\n",
       "  }\n",
       "})(window);</script>"
      ],
      "text/plain": [
       ":Curve   [year]   (avg_rent)"
      ]
     },
     "execution_count": 32,
     "metadata": {
      "application/vnd.holoviews_exec.v0+json": {
       "id": "2599"
      }
     },
     "output_type": "execute_result"
    }
   ],
   "source": [
    "average_gross_rent()"
   ]
  },
  {
   "cell_type": "code",
   "execution_count": 33,
   "metadata": {},
   "outputs": [
    {
     "data": {},
     "metadata": {},
     "output_type": "display_data"
    },
    {
     "data": {
      "application/vnd.holoviews_exec.v0+json": "",
      "text/html": [
       "<div id='2721'>\n",
       "\n",
       "\n",
       "\n",
       "\n",
       "\n",
       "  <div class=\"bk-root\" id=\"ce429309-d908-4d94-9df7-f924c3752a09\" data-root-id=\"2721\"></div>\n",
       "</div>\n",
       "<script type=\"application/javascript\">(function(root) {\n",
       "  function embed_document(root) {\n",
       "    var docs_json = {\"b0f693c1-3716-48d7-8e55-1a2a07ec4ecf\":{\"defs\":[{\"extends\":null,\"module\":null,\"name\":\"ReactiveHTML1\",\"overrides\":[],\"properties\":[]},{\"extends\":null,\"module\":null,\"name\":\"FlexBox1\",\"overrides\":[],\"properties\":[{\"default\":\"flex-start\",\"kind\":null,\"name\":\"align_content\"},{\"default\":\"flex-start\",\"kind\":null,\"name\":\"align_items\"},{\"default\":\"row\",\"kind\":null,\"name\":\"flex_direction\"},{\"default\":\"wrap\",\"kind\":null,\"name\":\"flex_wrap\"},{\"default\":\"flex-start\",\"kind\":null,\"name\":\"justify_content\"}]},{\"extends\":null,\"module\":null,\"name\":\"TemplateActions1\",\"overrides\":[],\"properties\":[{\"default\":0,\"kind\":null,\"name\":\"open_modal\"},{\"default\":0,\"kind\":null,\"name\":\"close_modal\"}]},{\"extends\":null,\"module\":null,\"name\":\"MaterialTemplateActions1\",\"overrides\":[],\"properties\":[{\"default\":0,\"kind\":null,\"name\":\"open_modal\"},{\"default\":0,\"kind\":null,\"name\":\"close_modal\"}]}],\"roots\":{\"references\":[{\"attributes\":{\"axis_label\":\"Price per SqFt\",\"formatter\":{\"id\":\"2770\"},\"major_label_policy\":{\"id\":\"2768\"},\"ticker\":{\"id\":\"2740\"}},\"id\":\"2739\",\"type\":\"LinearAxis\"},{\"attributes\":{\"children\":[{\"id\":\"2722\"},{\"id\":\"2726\"},{\"id\":\"2791\"}],\"margin\":[0,0,0,0],\"name\":\"Row03557\",\"tags\":[\"embedded\"]},\"id\":\"2721\",\"type\":\"Row\"},{\"attributes\":{\"line_alpha\":0.1,\"line_color\":\"red\",\"line_width\":2,\"x\":{\"field\":\"year\"},\"y\":{\"field\":\"avg_px_sqr_foot\"}},\"id\":\"2760\",\"type\":\"Line\"},{\"attributes\":{\"source\":{\"id\":\"2756\"}},\"id\":\"2763\",\"type\":\"CDSView\"},{\"attributes\":{\"line_color\":\"red\",\"line_width\":2,\"x\":{\"field\":\"year\"},\"y\":{\"field\":\"avg_px_sqr_foot\"}},\"id\":\"2759\",\"type\":\"Line\"},{\"attributes\":{\"line_alpha\":0.2,\"line_color\":\"red\",\"line_width\":2,\"x\":{\"field\":\"year\"},\"y\":{\"field\":\"avg_px_sqr_foot\"}},\"id\":\"2761\",\"type\":\"Line\"},{\"attributes\":{\"bottom_units\":\"screen\",\"fill_alpha\":0.5,\"fill_color\":\"lightgrey\",\"left_units\":\"screen\",\"level\":\"overlay\",\"line_alpha\":1.0,\"line_color\":\"black\",\"line_dash\":[4,4],\"line_width\":2,\"right_units\":\"screen\",\"syncable\":false,\"top_units\":\"screen\"},\"id\":\"2748\",\"type\":\"BoxAnnotation\"},{\"attributes\":{\"active_multi\":null,\"tools\":[{\"id\":\"2725\"},{\"id\":\"2743\"},{\"id\":\"2744\"},{\"id\":\"2745\"},{\"id\":\"2746\"},{\"id\":\"2747\"}]},\"id\":\"2749\",\"type\":\"Toolbar\"},{\"attributes\":{\"data_source\":{\"id\":\"2756\"},\"glyph\":{\"id\":\"2759\"},\"hover_glyph\":null,\"muted_glyph\":{\"id\":\"2761\"},\"nonselection_glyph\":{\"id\":\"2760\"},\"selection_glyph\":{\"id\":\"2764\"},\"view\":{\"id\":\"2763\"}},\"id\":\"2762\",\"type\":\"GlyphRenderer\"},{\"attributes\":{},\"id\":\"2743\",\"type\":\"SaveTool\"},{\"attributes\":{\"below\":[{\"id\":\"2735\"}],\"center\":[{\"id\":\"2738\"},{\"id\":\"2742\"}],\"height\":300,\"left\":[{\"id\":\"2739\"}],\"margin\":[5,5,5,5],\"min_border_bottom\":10,\"min_border_left\":10,\"min_border_right\":10,\"min_border_top\":10,\"renderers\":[{\"id\":\"2762\"}],\"sizing_mode\":\"fixed\",\"title\":{\"id\":\"2727\"},\"toolbar\":{\"id\":\"2749\"},\"width\":700,\"x_range\":{\"id\":\"2723\"},\"x_scale\":{\"id\":\"2731\"},\"y_range\":{\"id\":\"2724\"},\"y_scale\":{\"id\":\"2733\"}},\"id\":\"2726\",\"subtype\":\"Figure\",\"type\":\"Plot\"},{\"attributes\":{},\"id\":\"2770\",\"type\":\"BasicTickFormatter\"},{\"attributes\":{\"text\":\"Average Price per Square Foot by Year\",\"text_color\":\"black\",\"text_font_size\":\"12pt\"},\"id\":\"2727\",\"type\":\"Title\"},{\"attributes\":{},\"id\":\"2744\",\"type\":\"PanTool\"},{\"attributes\":{\"margin\":[5,5,5,5],\"name\":\"HSpacer03561\",\"sizing_mode\":\"stretch_width\"},\"id\":\"2722\",\"type\":\"Spacer\"},{\"attributes\":{},\"id\":\"2745\",\"type\":\"WheelZoomTool\"},{\"attributes\":{\"line_color\":\"red\",\"line_width\":2,\"x\":{\"field\":\"year\"},\"y\":{\"field\":\"avg_px_sqr_foot\"}},\"id\":\"2764\",\"type\":\"Line\"},{\"attributes\":{\"axis_label\":\"year\",\"formatter\":{\"id\":\"2767\"},\"major_label_policy\":{\"id\":\"2765\"},\"ticker\":{\"id\":\"2736\"}},\"id\":\"2735\",\"type\":\"LinearAxis\"},{\"attributes\":{\"overlay\":{\"id\":\"2748\"}},\"id\":\"2746\",\"type\":\"BoxZoomTool\"},{\"attributes\":{},\"id\":\"2765\",\"type\":\"AllLabels\"},{\"attributes\":{\"callback\":null,\"renderers\":[{\"id\":\"2762\"}],\"tags\":[\"hv_created\"],\"tooltips\":[[\"year\",\"@{year}\"],[\"avg_px_sqr_foot\",\"@{avg_px_sqr_foot}\"]]},\"id\":\"2725\",\"type\":\"HoverTool\"},{\"attributes\":{},\"id\":\"2767\",\"type\":\"BasicTickFormatter\"},{\"attributes\":{},\"id\":\"2731\",\"type\":\"LinearScale\"},{\"attributes\":{},\"id\":\"2747\",\"type\":\"ResetTool\"},{\"attributes\":{},\"id\":\"2779\",\"type\":\"UnionRenderers\"},{\"attributes\":{\"end\":733.2177371101801,\"reset_end\":733.2177371101801,\"reset_start\":306.3294011864627,\"start\":306.3294011864627,\"tags\":[[[\"avg_px_sqr_foot\",\"avg_px_sqr_foot\",null]]]},\"id\":\"2724\",\"type\":\"Range1d\"},{\"attributes\":{},\"id\":\"2733\",\"type\":\"LinearScale\"},{\"attributes\":{\"data\":{\"avg_px_sqr_foot\":{\"__ndarray__\":\"tQKjeIIVd0Do7CdydF51QGdijk899nhAaBKk2Jo5fkDHKCTbN2KBQPETFqRSxINATx33UCbNhUA=\",\"dtype\":\"float64\",\"order\":\"little\",\"shape\":[7]},\"year\":[2010,2011,2012,2013,2014,2015,2016]},\"selected\":{\"id\":\"2757\"},\"selection_policy\":{\"id\":\"2779\"}},\"id\":\"2756\",\"type\":\"ColumnDataSource\"},{\"attributes\":{\"axis\":{\"id\":\"2739\"},\"dimension\":1,\"grid_line_color\":null,\"ticker\":null},\"id\":\"2742\",\"type\":\"Grid\"},{\"attributes\":{},\"id\":\"2757\",\"type\":\"Selection\"},{\"attributes\":{},\"id\":\"2736\",\"type\":\"BasicTicker\"},{\"attributes\":{\"end\":2016.0,\"reset_end\":2016.0,\"reset_start\":2010.0,\"start\":2010.0,\"tags\":[[[\"year\",\"year\",null]]]},\"id\":\"2723\",\"type\":\"Range1d\"},{\"attributes\":{},\"id\":\"2768\",\"type\":\"AllLabels\"},{\"attributes\":{\"axis\":{\"id\":\"2735\"},\"grid_line_color\":null,\"ticker\":null},\"id\":\"2738\",\"type\":\"Grid\"},{\"attributes\":{\"margin\":[5,5,5,5],\"name\":\"HSpacer03562\",\"sizing_mode\":\"stretch_width\"},\"id\":\"2791\",\"type\":\"Spacer\"},{\"attributes\":{},\"id\":\"2740\",\"type\":\"BasicTicker\"}],\"root_ids\":[\"2721\"]},\"title\":\"Bokeh Application\",\"version\":\"2.3.2\"}};\n",
       "    var render_items = [{\"docid\":\"b0f693c1-3716-48d7-8e55-1a2a07ec4ecf\",\"root_ids\":[\"2721\"],\"roots\":{\"2721\":\"ce429309-d908-4d94-9df7-f924c3752a09\"}}];\n",
       "    root.Bokeh.embed.embed_items_notebook(docs_json, render_items);\n",
       "  }\n",
       "  if (root.Bokeh !== undefined && root.Bokeh.Panel !== undefined && ( root['Plotly'] !== undefined)) {\n",
       "    embed_document(root);\n",
       "  } else {\n",
       "    var attempts = 0;\n",
       "    var timer = setInterval(function(root) {\n",
       "      if (root.Bokeh !== undefined && root.Bokeh.Panel !== undefined && (root['Plotly'] !== undefined)) {\n",
       "        clearInterval(timer);\n",
       "        embed_document(root);\n",
       "      } else if (document.readyState == \"complete\") {\n",
       "        attempts++;\n",
       "        if (attempts > 200) {\n",
       "          clearInterval(timer);\n",
       "          console.log(\"Bokeh: ERROR: Unable to run BokehJS code because BokehJS library is missing\");\n",
       "        }\n",
       "      }\n",
       "    }, 25, root)\n",
       "  }\n",
       "})(window);</script>"
      ],
      "text/plain": [
       ":Curve   [year]   (avg_px_sqr_foot)"
      ]
     },
     "execution_count": 33,
     "metadata": {
      "application/vnd.holoviews_exec.v0+json": {
       "id": "2721"
      }
     },
     "output_type": "execute_result"
    }
   ],
   "source": [
    "average_sales_price()"
   ]
  },
  {
   "cell_type": "code",
   "execution_count": 34,
   "metadata": {},
   "outputs": [
    {
     "data": {},
     "metadata": {},
     "output_type": "display_data"
    },
    {
     "data": {},
     "metadata": {},
     "output_type": "display_data"
    },
    {
     "data": {
      "application/vnd.holoviews_exec.v0+json": "",
      "text/html": [
       "<div id='2843'>\n",
       "\n",
       "\n",
       "\n",
       "\n",
       "\n",
       "  <div class=\"bk-root\" id=\"6d731bb9-4367-48d2-8849-9d004535cd29\" data-root-id=\"2843\"></div>\n",
       "</div>\n",
       "<script type=\"application/javascript\">(function(root) {\n",
       "  function embed_document(root) {\n",
       "    var docs_json = {\"a2f0e77c-cc59-4a1c-bbf4-5dd9f4e84c22\":{\"defs\":[{\"extends\":null,\"module\":null,\"name\":\"ReactiveHTML1\",\"overrides\":[],\"properties\":[]},{\"extends\":null,\"module\":null,\"name\":\"FlexBox1\",\"overrides\":[],\"properties\":[{\"default\":\"flex-start\",\"kind\":null,\"name\":\"align_content\"},{\"default\":\"flex-start\",\"kind\":null,\"name\":\"align_items\"},{\"default\":\"row\",\"kind\":null,\"name\":\"flex_direction\"},{\"default\":\"wrap\",\"kind\":null,\"name\":\"flex_wrap\"},{\"default\":\"flex-start\",\"kind\":null,\"name\":\"justify_content\"}]},{\"extends\":null,\"module\":null,\"name\":\"TemplateActions1\",\"overrides\":[],\"properties\":[{\"default\":0,\"kind\":null,\"name\":\"open_modal\"},{\"default\":0,\"kind\":null,\"name\":\"close_modal\"}]},{\"extends\":null,\"module\":null,\"name\":\"MaterialTemplateActions1\",\"overrides\":[],\"properties\":[{\"default\":0,\"kind\":null,\"name\":\"open_modal\"},{\"default\":0,\"kind\":null,\"name\":\"close_modal\"}]}],\"roots\":{\"references\":[{\"attributes\":{},\"id\":\"2861\",\"type\":\"BasicTicker\"},{\"attributes\":{},\"id\":\"2895\",\"type\":\"BasicTickFormatter\"},{\"attributes\":{\"end\":4705.1,\"reset_end\":4705.1,\"reset_start\":923.9,\"start\":923.9,\"tags\":[[[\"avg_rent\",\"avg_rent\",null]]]},\"id\":\"2849\",\"type\":\"Range1d\"},{\"attributes\":{\"axis\":{\"id\":\"2860\"},\"grid_line_color\":null,\"ticker\":null},\"id\":\"2863\",\"type\":\"Grid\"},{\"attributes\":{},\"id\":\"2865\",\"type\":\"BasicTicker\"},{\"attributes\":{\"client_comm_id\":\"bf3173e9412745f4818396f9758b59a7\",\"comm_id\":\"99737cde2c57443aaff1766662cab8ba\",\"plot_id\":\"2843\"},\"id\":\"2952\",\"type\":\"panel.models.comm_manager.CommManager\"},{\"attributes\":{\"axis_label\":\"avg_rent\",\"formatter\":{\"id\":\"2895\"},\"major_label_policy\":{\"id\":\"2893\"},\"ticker\":{\"id\":\"2865\"}},\"id\":\"2864\",\"type\":\"LinearAxis\"},{\"attributes\":{\"children\":[{\"id\":\"2844\"},{\"id\":\"2851\"}],\"margin\":[0,0,0,0],\"name\":\"Row03684\"},\"id\":\"2843\",\"type\":\"Row\"},{\"attributes\":{\"children\":[{\"id\":\"2845\"},{\"id\":\"2847\"}],\"margin\":[0,0,0,0],\"name\":\"Column03691\"},\"id\":\"2844\",\"type\":\"Column\"},{\"attributes\":{\"source\":{\"id\":\"2881\"}},\"id\":\"2888\",\"type\":\"CDSView\"},{\"attributes\":{\"bottom_units\":\"screen\",\"fill_alpha\":0.5,\"fill_color\":\"lightgrey\",\"left_units\":\"screen\",\"level\":\"overlay\",\"line_alpha\":1.0,\"line_color\":\"black\",\"line_dash\":[4,4],\"line_width\":2,\"right_units\":\"screen\",\"syncable\":false,\"top_units\":\"screen\"},\"id\":\"2873\",\"type\":\"BoxAnnotation\"},{\"attributes\":{\"data_source\":{\"id\":\"2881\"},\"glyph\":{\"id\":\"2884\"},\"hover_glyph\":null,\"muted_glyph\":{\"id\":\"2886\"},\"nonselection_glyph\":{\"id\":\"2885\"},\"selection_glyph\":{\"id\":\"2889\"},\"view\":{\"id\":\"2888\"}},\"id\":\"2887\",\"type\":\"GlyphRenderer\"},{\"attributes\":{\"line_color\":\"#30a2da\",\"line_width\":2,\"x\":{\"field\":\"year\"},\"y\":{\"field\":\"avg_rent\"}},\"id\":\"2884\",\"type\":\"Line\"},{\"attributes\":{\"axis\":{\"id\":\"2864\"},\"dimension\":1,\"grid_line_color\":null,\"ticker\":null},\"id\":\"2867\",\"type\":\"Grid\"},{\"attributes\":{},\"id\":\"2890\",\"type\":\"AllLabels\"},{\"attributes\":{\"active_multi\":null,\"tools\":[{\"id\":\"2850\"},{\"id\":\"2868\"},{\"id\":\"2869\"},{\"id\":\"2870\"},{\"id\":\"2871\"},{\"id\":\"2872\"}]},\"id\":\"2874\",\"type\":\"Toolbar\"},{\"attributes\":{},\"id\":\"2893\",\"type\":\"AllLabels\"},{\"attributes\":{},\"id\":\"2868\",\"type\":\"SaveTool\"},{\"attributes\":{\"line_color\":\"#30a2da\",\"line_width\":2,\"x\":{\"field\":\"year\"},\"y\":{\"field\":\"avg_rent\"}},\"id\":\"2889\",\"type\":\"Line\"},{\"attributes\":{},\"id\":\"2856\",\"type\":\"LinearScale\"},{\"attributes\":{},\"id\":\"2869\",\"type\":\"PanTool\"},{\"attributes\":{\"line_alpha\":0.2,\"line_color\":\"#30a2da\",\"line_width\":2,\"x\":{\"field\":\"year\"},\"y\":{\"field\":\"avg_rent\"}},\"id\":\"2886\",\"type\":\"Line\"},{\"attributes\":{},\"id\":\"2870\",\"type\":\"WheelZoomTool\"},{\"attributes\":{\"margin\":[5,5,5,5],\"name\":\"VSpacer03690\",\"sizing_mode\":\"stretch_height\"},\"id\":\"2847\",\"type\":\"Spacer\"},{\"attributes\":{\"overlay\":{\"id\":\"2873\"}},\"id\":\"2871\",\"type\":\"BoxZoomTool\"},{\"attributes\":{},\"id\":\"2910\",\"type\":\"UnionRenderers\"},{\"attributes\":{\"below\":[{\"id\":\"2860\"}],\"center\":[{\"id\":\"2863\"},{\"id\":\"2867\"}],\"height\":300,\"left\":[{\"id\":\"2864\"}],\"margin\":[5,5,5,5],\"min_border_bottom\":10,\"min_border_left\":10,\"min_border_right\":10,\"min_border_top\":10,\"renderers\":[{\"id\":\"2887\"}],\"sizing_mode\":\"fixed\",\"title\":{\"id\":\"2852\"},\"toolbar\":{\"id\":\"2874\"},\"width\":700,\"x_range\":{\"id\":\"2848\"},\"x_scale\":{\"id\":\"2856\"},\"y_range\":{\"id\":\"2849\"},\"y_scale\":{\"id\":\"2858\"}},\"id\":\"2851\",\"subtype\":\"Figure\",\"type\":\"Plot\"},{\"attributes\":{\"line_alpha\":0.1,\"line_color\":\"#30a2da\",\"line_width\":2,\"x\":{\"field\":\"year\"},\"y\":{\"field\":\"avg_rent\"}},\"id\":\"2885\",\"type\":\"Line\"},{\"attributes\":{\"children\":[{\"id\":\"2846\"}],\"css_classes\":[\"panel-widget-box\"],\"margin\":[5,5,5,5],\"name\":\"WidgetBox03685\"},\"id\":\"2845\",\"type\":\"Column\"},{\"attributes\":{},\"id\":\"2858\",\"type\":\"LinearScale\"},{\"attributes\":{\"margin\":[20,20,20,20],\"min_width\":250,\"options\":[\"Alamo Square\",\"Anza Vista\",\"Bayview\",\"Buena Vista Park\",\"Central Richmond\",\"Central Sunset\",\"Corona Heights\",\"Cow Hollow\",\"Croker Amazon\",\"Diamond Heights\",\"Downtown \",\"Eureka Valley/Dolores Heights\",\"Excelsior\",\"Financial District North\",\"Financial District South\",\"Forest Knolls\",\"Glen Park\",\"Golden Gate Heights\",\"Haight Ashbury\",\"Hayes Valley\",\"Hunters Point\",\"Ingleside \",\"Inner Mission\",\"Inner Parkside\",\"Inner Richmond\",\"Inner Sunset\",\"Jordan Park/Laurel Heights\",\"Lake --The Presidio\",\"Lone Mountain\",\"Lower Pacific Heights\",\"Marina\",\"Miraloma Park\",\"Mission Bay\",\"Mission Dolores\",\"Mission Terrace\",\"Nob Hill\",\"Noe Valley\",\"Oceanview\",\"Outer Parkside\",\"Outer Richmond \",\"Outer Sunset\",\"Pacific Heights\",\"Park North\",\"Parkside\",\"Parnassus/Ashbury Heights\",\"Portola\",\"Potrero Hill\",\"Presidio Heights\",\"Russian Hill\",\"South Beach\",\"South of Market\",\"Sunnyside\",\"Telegraph Hill\",\"Twin Peaks\",\"Union Square District\",\"Van Ness/ Civic Center\",\"West Portal\",\"Western Addition\",\"Yerba Buena\",\"Bernal Heights\",\"Clarendon Heights\",\"Duboce Triangle\",\"Ingleside Heights\",\"North Beach\",\"North Waterfront\",\"Outer Mission\",\"Westwood Highlands\",\"Bernal Heights \",\"Merced Heights\",\"Midtown Terrace\",\"Visitacion Valley\",\"Silver Terrace\",\"Westwood Park\",\"Bayview Heights\"],\"title\":\"neighborhood\",\"value\":\"Alamo Square\",\"width\":250},\"id\":\"2846\",\"type\":\"Select\"},{\"attributes\":{\"data\":{\"avg_rent\":[1239,1530,2324,2971,3528,3739,4390],\"year\":[2010,2011,2012,2013,2014,2015,2016]},\"selected\":{\"id\":\"2882\"},\"selection_policy\":{\"id\":\"2910\"}},\"id\":\"2881\",\"type\":\"ColumnDataSource\"},{\"attributes\":{},\"id\":\"2872\",\"type\":\"ResetTool\"},{\"attributes\":{},\"id\":\"2892\",\"type\":\"BasicTickFormatter\"},{\"attributes\":{\"axis_label\":\"year\",\"formatter\":{\"id\":\"2892\"},\"major_label_policy\":{\"id\":\"2890\"},\"ticker\":{\"id\":\"2861\"}},\"id\":\"2860\",\"type\":\"LinearAxis\"},{\"attributes\":{},\"id\":\"2882\",\"type\":\"Selection\"},{\"attributes\":{\"end\":2016.0,\"reset_end\":2016.0,\"reset_start\":2010.0,\"start\":2010.0,\"tags\":[[[\"year\",\"year\",null]]]},\"id\":\"2848\",\"type\":\"Range1d\"},{\"attributes\":{\"callback\":null,\"renderers\":[{\"id\":\"2887\"}],\"tags\":[\"hv_created\"],\"tooltips\":[[\"year\",\"@{year}\"],[\"avg_rent\",\"@{avg_rent}\"]]},\"id\":\"2850\",\"type\":\"HoverTool\"},{\"attributes\":{\"text\":\"neighborhood: Alamo Square\",\"text_color\":\"black\",\"text_font_size\":\"12pt\"},\"id\":\"2852\",\"type\":\"Title\"}],\"root_ids\":[\"2843\",\"2952\"]},\"title\":\"Bokeh Application\",\"version\":\"2.3.2\"}};\n",
       "    var render_items = [{\"docid\":\"a2f0e77c-cc59-4a1c-bbf4-5dd9f4e84c22\",\"root_ids\":[\"2843\"],\"roots\":{\"2843\":\"6d731bb9-4367-48d2-8849-9d004535cd29\"}}];\n",
       "    root.Bokeh.embed.embed_items_notebook(docs_json, render_items);\n",
       "  }\n",
       "  if (root.Bokeh !== undefined && root.Bokeh.Panel !== undefined && ( root['Plotly'] !== undefined)) {\n",
       "    embed_document(root);\n",
       "  } else {\n",
       "    var attempts = 0;\n",
       "    var timer = setInterval(function(root) {\n",
       "      if (root.Bokeh !== undefined && root.Bokeh.Panel !== undefined && (root['Plotly'] !== undefined)) {\n",
       "        clearInterval(timer);\n",
       "        embed_document(root);\n",
       "      } else if (document.readyState == \"complete\") {\n",
       "        attempts++;\n",
       "        if (attempts > 200) {\n",
       "          clearInterval(timer);\n",
       "          console.log(\"Bokeh: ERROR: Unable to run BokehJS code because BokehJS library is missing\");\n",
       "        }\n",
       "      }\n",
       "    }, 25, root)\n",
       "  }\n",
       "})(window);</script>"
      ],
      "text/plain": [
       "Row\n",
       "    [0] Column\n",
       "        [0] WidgetBox\n",
       "            [0] Select(margin=(20, 20, 20, 20), name='neighborhood', options=['Alamo Square', ...], value='Alamo Square', width=250)\n",
       "        [1] VSpacer()\n",
       "    [1] HoloViews(DynamicMap, widget_location='left_top')"
      ]
     },
     "execution_count": 34,
     "metadata": {
      "application/vnd.holoviews_exec.v0+json": {
       "id": "2843"
      }
     },
     "output_type": "execute_result"
    }
   ],
   "source": [
    "average_price_by_neighborhood()"
   ]
  },
  {
   "cell_type": "code",
   "execution_count": 35,
   "metadata": {},
   "outputs": [
    {
     "data": {},
     "metadata": {},
     "output_type": "display_data"
    },
    {
     "data": {
      "application/vnd.holoviews_exec.v0+json": "",
      "text/html": [
       "<div id='3003'>\n",
       "\n",
       "\n",
       "\n",
       "\n",
       "\n",
       "  <div class=\"bk-root\" id=\"d369065e-0a34-453c-9b01-51e0e51f5f4d\" data-root-id=\"3003\"></div>\n",
       "</div>\n",
       "<script type=\"application/javascript\">(function(root) {\n",
       "  function embed_document(root) {\n",
       "    var docs_json = {\"7d8e2366-7f78-45a8-b35f-aa0f42dceb0f\":{\"defs\":[{\"extends\":null,\"module\":null,\"name\":\"ReactiveHTML1\",\"overrides\":[],\"properties\":[]},{\"extends\":null,\"module\":null,\"name\":\"FlexBox1\",\"overrides\":[],\"properties\":[{\"default\":\"flex-start\",\"kind\":null,\"name\":\"align_content\"},{\"default\":\"flex-start\",\"kind\":null,\"name\":\"align_items\"},{\"default\":\"row\",\"kind\":null,\"name\":\"flex_direction\"},{\"default\":\"wrap\",\"kind\":null,\"name\":\"flex_wrap\"},{\"default\":\"flex-start\",\"kind\":null,\"name\":\"justify_content\"}]},{\"extends\":null,\"module\":null,\"name\":\"TemplateActions1\",\"overrides\":[],\"properties\":[{\"default\":0,\"kind\":null,\"name\":\"open_modal\"},{\"default\":0,\"kind\":null,\"name\":\"close_modal\"}]},{\"extends\":null,\"module\":null,\"name\":\"MaterialTemplateActions1\",\"overrides\":[],\"properties\":[{\"default\":0,\"kind\":null,\"name\":\"open_modal\"},{\"default\":0,\"kind\":null,\"name\":\"close_modal\"}]}],\"roots\":{\"references\":[{\"attributes\":{},\"id\":\"3048\",\"type\":\"CategoricalTickFormatter\"},{\"attributes\":{\"bottom_units\":\"screen\",\"fill_alpha\":0.5,\"fill_color\":\"lightgrey\",\"left_units\":\"screen\",\"level\":\"overlay\",\"line_alpha\":1.0,\"line_color\":\"black\",\"line_dash\":[4,4],\"line_width\":2,\"right_units\":\"screen\",\"syncable\":false,\"top_units\":\"screen\"},\"id\":\"3029\",\"type\":\"BoxAnnotation\"},{\"attributes\":{\"data_source\":{\"id\":\"3037\"},\"glyph\":{\"id\":\"3040\"},\"hover_glyph\":null,\"muted_glyph\":{\"id\":\"3042\"},\"nonselection_glyph\":{\"id\":\"3041\"},\"selection_glyph\":{\"id\":\"3045\"},\"view\":{\"id\":\"3044\"}},\"id\":\"3043\",\"type\":\"GlyphRenderer\"},{\"attributes\":{\"fill_alpha\":{\"value\":0.2},\"fill_color\":{\"value\":\"#30a2da\"},\"line_alpha\":{\"value\":0.2},\"top\":{\"field\":\"sale_price_sqr_foot\"},\"width\":{\"value\":0.8},\"x\":{\"field\":\"neighborhood\"}},\"id\":\"3042\",\"type\":\"VBar\"},{\"attributes\":{\"children\":[{\"id\":\"3004\"},{\"id\":\"3008\"},{\"id\":\"3072\"}],\"margin\":[0,0,0,0],\"name\":\"Row03987\",\"tags\":[\"embedded\"]},\"id\":\"3003\",\"type\":\"Row\"},{\"attributes\":{\"fill_color\":{\"value\":\"#30a2da\"},\"top\":{\"field\":\"sale_price_sqr_foot\"},\"width\":{\"value\":0.8},\"x\":{\"field\":\"neighborhood\"}},\"id\":\"3040\",\"type\":\"VBar\"},{\"attributes\":{\"active_multi\":null,\"tools\":[{\"id\":\"3007\"},{\"id\":\"3024\"},{\"id\":\"3025\"},{\"id\":\"3026\"},{\"id\":\"3027\"},{\"id\":\"3028\"}]},\"id\":\"3030\",\"type\":\"Toolbar\"},{\"attributes\":{},\"id\":\"3024\",\"type\":\"SaveTool\"},{\"attributes\":{\"margin\":[5,5,5,5],\"name\":\"HSpacer03992\",\"sizing_mode\":\"stretch_width\"},\"id\":\"3072\",\"type\":\"Spacer\"},{\"attributes\":{\"end\":929.3801355198136,\"reset_end\":929.3801355198136,\"reset_start\":0.0,\"tags\":[[[\"sale_price_sqr_foot\",\"sale_price_sqr_foot\",null]]]},\"id\":\"3006\",\"type\":\"Range1d\"},{\"attributes\":{},\"id\":\"3025\",\"type\":\"PanTool\"},{\"attributes\":{},\"id\":\"3026\",\"type\":\"WheelZoomTool\"},{\"attributes\":{\"below\":[{\"id\":\"3017\"}],\"center\":[{\"id\":\"3019\"},{\"id\":\"3023\"}],\"height\":300,\"left\":[{\"id\":\"3020\"}],\"margin\":[5,5,5,5],\"min_border_bottom\":10,\"min_border_left\":10,\"min_border_right\":10,\"min_border_top\":10,\"renderers\":[{\"id\":\"3043\"}],\"sizing_mode\":\"fixed\",\"title\":{\"id\":\"3009\"},\"toolbar\":{\"id\":\"3030\"},\"width\":700,\"x_range\":{\"id\":\"3005\"},\"x_scale\":{\"id\":\"3013\"},\"y_range\":{\"id\":\"3006\"},\"y_scale\":{\"id\":\"3015\"}},\"id\":\"3008\",\"subtype\":\"Figure\",\"type\":\"Plot\"},{\"attributes\":{},\"id\":\"3013\",\"type\":\"CategoricalScale\"},{\"attributes\":{\"overlay\":{\"id\":\"3029\"}},\"id\":\"3027\",\"type\":\"BoxZoomTool\"},{\"attributes\":{\"margin\":[5,5,5,5],\"name\":\"HSpacer03991\",\"sizing_mode\":\"stretch_width\"},\"id\":\"3004\",\"type\":\"Spacer\"},{\"attributes\":{\"factors\":[\"Union Square District\",\"Merced Heights\",\"Miraloma Park\",\"Pacific Heights\",\"Westwood Park\",\"Telegraph Hill\",\"Presidio Heights\",\"Cow Hollow\",\"Potrero Hill\",\"South Beach\"],\"tags\":[[[\"neighborhood\",\"neighborhood\",null]]]},\"id\":\"3005\",\"type\":\"FactorRange\"},{\"attributes\":{},\"id\":\"3015\",\"type\":\"LinearScale\"},{\"attributes\":{},\"id\":\"3028\",\"type\":\"ResetTool\"},{\"attributes\":{\"axis\":{\"id\":\"3020\"},\"dimension\":1,\"grid_line_color\":null,\"ticker\":null},\"id\":\"3023\",\"type\":\"Grid\"},{\"attributes\":{\"axis_label\":\"neighborhood\",\"formatter\":{\"id\":\"3048\"},\"major_label_orientation\":0.7853981633974483,\"major_label_policy\":{\"id\":\"3046\"},\"ticker\":{\"id\":\"3018\"}},\"id\":\"3017\",\"type\":\"CategoricalAxis\"},{\"attributes\":{\"callback\":null,\"renderers\":[{\"id\":\"3043\"}],\"tags\":[\"hv_created\"],\"tooltips\":[[\"neighborhood\",\"@{neighborhood}\"],[\"sale_price_sqr_foot\",\"@{sale_price_sqr_foot}\"]]},\"id\":\"3007\",\"type\":\"HoverTool\"},{\"attributes\":{\"text_color\":\"black\",\"text_font_size\":\"12pt\"},\"id\":\"3009\",\"type\":\"Title\"},{\"attributes\":{\"data\":{\"neighborhood\":[\"Union Square District\",\"Merced Heights\",\"Miraloma Park\",\"Pacific Heights\",\"Westwood Park\",\"Telegraph Hill\",\"Presidio Heights\",\"Cow Hollow\",\"Potrero Hill\",\"South Beach\"],\"sale_price_sqr_foot\":{\"__ndarray__\":\"JRAUMfI/jEB9IrkvwqaIQFx/3pp8XohAFZsVUHKMhUBr0ERas3iFQLsKhXgNJIVAy835O80ahUALV25bts+EQJrMCuEbsIRAya3y7v5QhEA=\",\"dtype\":\"float64\",\"order\":\"little\",\"shape\":[10]}},\"selected\":{\"id\":\"3038\"},\"selection_policy\":{\"id\":\"3060\"}},\"id\":\"3037\",\"type\":\"ColumnDataSource\"},{\"attributes\":{},\"id\":\"3060\",\"type\":\"UnionRenderers\"},{\"attributes\":{},\"id\":\"3018\",\"type\":\"CategoricalTicker\"},{\"attributes\":{\"axis\":{\"id\":\"3017\"},\"grid_line_color\":null,\"ticker\":null},\"id\":\"3019\",\"type\":\"Grid\"},{\"attributes\":{},\"id\":\"3051\",\"type\":\"BasicTickFormatter\"},{\"attributes\":{\"fill_alpha\":{\"value\":0.1},\"fill_color\":{\"value\":\"#30a2da\"},\"line_alpha\":{\"value\":0.1},\"top\":{\"field\":\"sale_price_sqr_foot\"},\"width\":{\"value\":0.8},\"x\":{\"field\":\"neighborhood\"}},\"id\":\"3041\",\"type\":\"VBar\"},{\"attributes\":{\"bottom\":{\"value\":0},\"fill_alpha\":{\"value\":1.0},\"fill_color\":{\"value\":\"#30a2da\"},\"hatch_alpha\":{\"value\":1.0},\"hatch_color\":{\"value\":\"black\"},\"hatch_scale\":{\"value\":12.0},\"hatch_weight\":{\"value\":1.0},\"line_alpha\":{\"value\":1.0},\"line_cap\":{\"value\":\"butt\"},\"line_color\":{\"value\":\"black\"},\"line_dash\":{\"value\":[]},\"line_dash_offset\":{\"value\":0},\"line_join\":{\"value\":\"bevel\"},\"line_width\":{\"value\":1},\"top\":{\"field\":\"sale_price_sqr_foot\"},\"width\":{\"value\":0.8},\"x\":{\"field\":\"neighborhood\"}},\"id\":\"3045\",\"type\":\"VBar\"},{\"attributes\":{},\"id\":\"3046\",\"type\":\"AllLabels\"},{\"attributes\":{},\"id\":\"3021\",\"type\":\"BasicTicker\"},{\"attributes\":{},\"id\":\"3038\",\"type\":\"Selection\"},{\"attributes\":{\"axis_label\":\"sale_price_sqr_foot\",\"formatter\":{\"id\":\"3051\"},\"major_label_policy\":{\"id\":\"3049\"},\"ticker\":{\"id\":\"3021\"}},\"id\":\"3020\",\"type\":\"LinearAxis\"},{\"attributes\":{\"source\":{\"id\":\"3037\"}},\"id\":\"3044\",\"type\":\"CDSView\"},{\"attributes\":{},\"id\":\"3049\",\"type\":\"AllLabels\"}],\"root_ids\":[\"3003\"]},\"title\":\"Bokeh Application\",\"version\":\"2.3.2\"}};\n",
       "    var render_items = [{\"docid\":\"7d8e2366-7f78-45a8-b35f-aa0f42dceb0f\",\"root_ids\":[\"3003\"],\"roots\":{\"3003\":\"d369065e-0a34-453c-9b01-51e0e51f5f4d\"}}];\n",
       "    root.Bokeh.embed.embed_items_notebook(docs_json, render_items);\n",
       "  }\n",
       "  if (root.Bokeh !== undefined && root.Bokeh.Panel !== undefined && ( root['Plotly'] !== undefined)) {\n",
       "    embed_document(root);\n",
       "  } else {\n",
       "    var attempts = 0;\n",
       "    var timer = setInterval(function(root) {\n",
       "      if (root.Bokeh !== undefined && root.Bokeh.Panel !== undefined && (root['Plotly'] !== undefined)) {\n",
       "        clearInterval(timer);\n",
       "        embed_document(root);\n",
       "      } else if (document.readyState == \"complete\") {\n",
       "        attempts++;\n",
       "        if (attempts > 200) {\n",
       "          clearInterval(timer);\n",
       "          console.log(\"Bokeh: ERROR: Unable to run BokehJS code because BokehJS library is missing\");\n",
       "        }\n",
       "      }\n",
       "    }, 25, root)\n",
       "  }\n",
       "})(window);</script>"
      ],
      "text/plain": [
       ":Bars   [neighborhood]   (sale_price_sqr_foot)"
      ]
     },
     "execution_count": 35,
     "metadata": {
      "application/vnd.holoviews_exec.v0+json": {
       "id": "3003"
      }
     },
     "output_type": "execute_result"
    }
   ],
   "source": [
    "top_most_expensive_neighborhoods()"
   ]
  },
  {
   "cell_type": "code",
   "execution_count": 36,
   "metadata": {},
   "outputs": [
    {
     "data": {},
     "metadata": {},
     "output_type": "display_data"
    },
    {
     "data": {},
     "metadata": {},
     "output_type": "display_data"
    },
    {
     "data": {
      "application/vnd.holoviews_exec.v0+json": "",
      "text/html": [
       "<div id='3124'>\n",
       "\n",
       "\n",
       "\n",
       "\n",
       "\n",
       "  <div class=\"bk-root\" id=\"a8e0c393-6bba-4117-905f-a920d846ad55\" data-root-id=\"3124\"></div>\n",
       "</div>\n",
       "<script type=\"application/javascript\">(function(root) {\n",
       "  function embed_document(root) {\n",
       "    var docs_json = {\"41f949d0-8fcd-4dfc-a234-1fe917115d03\":{\"defs\":[{\"extends\":null,\"module\":null,\"name\":\"ReactiveHTML1\",\"overrides\":[],\"properties\":[]},{\"extends\":null,\"module\":null,\"name\":\"FlexBox1\",\"overrides\":[],\"properties\":[{\"default\":\"flex-start\",\"kind\":null,\"name\":\"align_content\"},{\"default\":\"flex-start\",\"kind\":null,\"name\":\"align_items\"},{\"default\":\"row\",\"kind\":null,\"name\":\"flex_direction\"},{\"default\":\"wrap\",\"kind\":null,\"name\":\"flex_wrap\"},{\"default\":\"flex-start\",\"kind\":null,\"name\":\"justify_content\"}]},{\"extends\":null,\"module\":null,\"name\":\"TemplateActions1\",\"overrides\":[],\"properties\":[{\"default\":0,\"kind\":null,\"name\":\"open_modal\"},{\"default\":0,\"kind\":null,\"name\":\"close_modal\"}]},{\"extends\":null,\"module\":null,\"name\":\"MaterialTemplateActions1\",\"overrides\":[],\"properties\":[{\"default\":0,\"kind\":null,\"name\":\"open_modal\"},{\"default\":0,\"kind\":null,\"name\":\"close_modal\"}]}],\"roots\":{\"references\":[{\"attributes\":{\"bottom_units\":\"screen\",\"fill_alpha\":0.5,\"fill_color\":\"lightgrey\",\"left_units\":\"screen\",\"level\":\"overlay\",\"line_alpha\":1.0,\"line_color\":\"black\",\"line_dash\":[4,4],\"line_width\":2,\"right_units\":\"screen\",\"syncable\":false,\"top_units\":\"screen\"},\"id\":\"3149\",\"type\":\"BoxAnnotation\"},{\"attributes\":{\"source\":{\"id\":\"3158\"}},\"id\":\"3165\",\"type\":\"CDSView\"},{\"attributes\":{\"children\":[{\"id\":\"3200\"},{\"id\":\"3202\"}],\"margin\":[0,0,0,0],\"name\":\"Column04093\"},\"id\":\"3199\",\"type\":\"Column\"},{\"attributes\":{\"below\":[{\"id\":\"3137\"}],\"center\":[{\"id\":\"3139\"},{\"id\":\"3143\"}],\"height\":300,\"left\":[{\"id\":\"3140\"}],\"margin\":[5,5,5,5],\"min_border_bottom\":10,\"min_border_left\":10,\"min_border_right\":10,\"min_border_top\":10,\"renderers\":[{\"id\":\"3164\"}],\"sizing_mode\":\"fixed\",\"title\":{\"id\":\"3129\"},\"toolbar\":{\"id\":\"3150\"},\"width\":700,\"x_range\":{\"id\":\"3125\"},\"x_scale\":{\"id\":\"3133\"},\"y_range\":{\"id\":\"3126\"},\"y_scale\":{\"id\":\"3135\"}},\"id\":\"3128\",\"subtype\":\"Figure\",\"type\":\"Plot\"},{\"attributes\":{\"factors\":[[\"2010\",\"avg_px_sqr_foot\"],[\"2010\",\"avg_rent\"],[\"2011\",\"avg_px_sqr_foot\"],[\"2011\",\"avg_rent\"],[\"2012\",\"avg_px_sqr_foot\"],[\"2012\",\"avg_rent\"],[\"2013\",\"avg_px_sqr_foot\"],[\"2013\",\"avg_rent\"],[\"2014\",\"avg_px_sqr_foot\"],[\"2014\",\"avg_rent\"],[\"2015\",\"avg_px_sqr_foot\"],[\"2015\",\"avg_rent\"],[\"2016\",\"avg_px_sqr_foot\"],[\"2016\",\"avg_rent\"]],\"tags\":[[[\"year\",\"year\",null],[\"Variable\",\"Variable\",null]]]},\"id\":\"3125\",\"type\":\"FactorRange\"},{\"attributes\":{\"callback\":null,\"renderers\":[{\"id\":\"3164\"}],\"tags\":[\"hv_created\"],\"tooltips\":[[\"year\",\"@{year}\"],[\"Variable\",\"@{Variable}\"],[\"value\",\"@{value}\"]]},\"id\":\"3127\",\"type\":\"HoverTool\"},{\"attributes\":{\"active_multi\":null,\"tools\":[{\"id\":\"3127\"},{\"id\":\"3144\"},{\"id\":\"3145\"},{\"id\":\"3146\"},{\"id\":\"3147\"},{\"id\":\"3148\"}]},\"id\":\"3150\",\"type\":\"Toolbar\"},{\"attributes\":{},\"id\":\"3169\",\"type\":\"CategoricalTickFormatter\"},{\"attributes\":{},\"id\":\"3144\",\"type\":\"SaveTool\"},{\"attributes\":{},\"id\":\"3159\",\"type\":\"Selection\"},{\"attributes\":{\"children\":[{\"id\":\"3201\"}],\"css_classes\":[\"panel-widget-box\"],\"margin\":[5,5,5,5],\"name\":\"WidgetBox04087\"},\"id\":\"3200\",\"type\":\"Column\"},{\"attributes\":{},\"id\":\"3145\",\"type\":\"PanTool\"},{\"attributes\":{\"data_source\":{\"id\":\"3158\"},\"glyph\":{\"id\":\"3161\"},\"hover_glyph\":null,\"muted_glyph\":{\"id\":\"3163\"},\"nonselection_glyph\":{\"id\":\"3162\"},\"selection_glyph\":{\"id\":\"3166\"},\"view\":{\"id\":\"3165\"}},\"id\":\"3164\",\"type\":\"GlyphRenderer\"},{\"attributes\":{},\"id\":\"3146\",\"type\":\"WheelZoomTool\"},{\"attributes\":{\"margin\":[20,20,20,20],\"min_width\":250,\"options\":[\"Alamo Square\",\"Anza Vista\",\"Bayview\",\"Buena Vista Park\",\"Central Richmond\",\"Central Sunset\",\"Corona Heights\",\"Cow Hollow\",\"Croker Amazon\",\"Diamond Heights\",\"Downtown \",\"Eureka Valley/Dolores Heights\",\"Excelsior\",\"Financial District North\",\"Financial District South\",\"Forest Knolls\",\"Glen Park\",\"Golden Gate Heights\",\"Haight Ashbury\",\"Hayes Valley\",\"Hunters Point\",\"Ingleside \",\"Inner Mission\",\"Inner Parkside\",\"Inner Richmond\",\"Inner Sunset\",\"Jordan Park/Laurel Heights\",\"Lake --The Presidio\",\"Lone Mountain\",\"Lower Pacific Heights\",\"Marina\",\"Miraloma Park\",\"Mission Bay\",\"Mission Dolores\",\"Mission Terrace\",\"Nob Hill\",\"Noe Valley\",\"Oceanview\",\"Outer Parkside\",\"Outer Richmond \",\"Outer Sunset\",\"Pacific Heights\",\"Park North\",\"Parkside\",\"Parnassus/Ashbury Heights\",\"Portola\",\"Potrero Hill\",\"Presidio Heights\",\"Russian Hill\",\"South Beach\",\"South of Market\",\"Sunnyside\",\"Telegraph Hill\",\"Twin Peaks\",\"Union Square District\",\"Van Ness/ Civic Center\",\"West Portal\",\"Western Addition\",\"Yerba Buena\",\"Bernal Heights\",\"Clarendon Heights\",\"Duboce Triangle\",\"Ingleside Heights\",\"North Beach\",\"North Waterfront\",\"Outer Mission\",\"Westwood Highlands\",\"Bernal Heights \",\"Merced Heights\",\"Midtown Terrace\",\"Visitacion Valley\",\"Silver Terrace\",\"Westwood Park\",\"Bayview Heights\"],\"title\":\"neighborhood\",\"value\":\"Alamo Square\",\"width\":250},\"id\":\"3201\",\"type\":\"Select\"},{\"attributes\":{\"factors\":[\"avg_px_sqr_foot\",\"avg_rent\"],\"palette\":[\"#30a2da\",\"#fc4f30\"]},\"id\":\"3157\",\"type\":\"CategoricalColorMapper\"},{\"attributes\":{},\"id\":\"3167\",\"type\":\"AllLabels\"},{\"attributes\":{\"axis\":{\"id\":\"3140\"},\"dimension\":1,\"grid_line_color\":null,\"ticker\":null},\"id\":\"3143\",\"type\":\"Grid\"},{\"attributes\":{\"overlay\":{\"id\":\"3149\"}},\"id\":\"3147\",\"type\":\"BoxZoomTool\"},{\"attributes\":{\"fill_alpha\":{\"value\":0.1},\"fill_color\":{\"field\":\"Variable\",\"transform\":{\"id\":\"3157\"}},\"line_alpha\":{\"value\":0.1},\"top\":{\"field\":\"value\"},\"width\":{\"value\":0.8},\"x\":{\"field\":\"xoffsets\"}},\"id\":\"3162\",\"type\":\"VBar\"},{\"attributes\":{},\"id\":\"3133\",\"type\":\"CategoricalScale\"},{\"attributes\":{\"margin\":[5,5,5,5],\"name\":\"VSpacer04092\",\"sizing_mode\":\"stretch_height\"},\"id\":\"3202\",\"type\":\"Spacer\"},{\"attributes\":{},\"id\":\"3148\",\"type\":\"ResetTool\"},{\"attributes\":{\"end\":4810.690068306854,\"reset_end\":4810.690068306854,\"reset_start\":0.0,\"tags\":[[[\"value\",\"value\",null]]]},\"id\":\"3126\",\"type\":\"Range1d\"},{\"attributes\":{\"fill_alpha\":{\"value\":0.2},\"fill_color\":{\"field\":\"Variable\",\"transform\":{\"id\":\"3157\"}},\"line_alpha\":{\"value\":0.2},\"top\":{\"field\":\"value\"},\"width\":{\"value\":0.8},\"x\":{\"field\":\"xoffsets\"}},\"id\":\"3163\",\"type\":\"VBar\"},{\"attributes\":{\"axis_label\":\"year, Variable\",\"formatter\":{\"id\":\"3169\"},\"major_label_orientation\":1.5707963267948966,\"major_label_policy\":{\"id\":\"3167\"},\"ticker\":{\"id\":\"3138\"}},\"id\":\"3137\",\"type\":\"CategoricalAxis\"},{\"attributes\":{},\"id\":\"3172\",\"type\":\"BasicTickFormatter\"},{\"attributes\":{\"text\":\"neighborhood: Alamo Square\",\"text_color\":\"black\",\"text_font_size\":\"12pt\"},\"id\":\"3129\",\"type\":\"Title\"},{\"attributes\":{\"children\":[{\"id\":\"3128\"},{\"id\":\"3199\"}],\"margin\":[0,0,0,0],\"name\":\"Row04086\"},\"id\":\"3124\",\"type\":\"Row\"},{\"attributes\":{\"data\":{\"Variable\":[\"avg_px_sqr_foot\",\"avg_px_sqr_foot\",\"avg_px_sqr_foot\",\"avg_px_sqr_foot\",\"avg_px_sqr_foot\",\"avg_px_sqr_foot\",\"avg_px_sqr_foot\",\"avg_rent\",\"avg_rent\",\"avg_rent\",\"avg_rent\",\"avg_rent\",\"avg_rent\",\"avg_rent\"],\"value\":{\"__ndarray__\":\"DUc7WO0yckCafszcbwhxQIKRs5ot42ZAKDog0LQ8eEAVMinKGEd+QI4V5FDt0IJAVCHcmLVPdUAAAAAAAFyTQAAAAAAA6JdAAAAAAAAookAAAAAAADanQAAAAAAAkKtAAAAAAAA2rUAAAAAAACaxQA==\",\"dtype\":\"float64\",\"order\":\"little\",\"shape\":[14]},\"xoffsets\":[[\"2010\",\"avg_px_sqr_foot\"],[\"2011\",\"avg_px_sqr_foot\"],[\"2012\",\"avg_px_sqr_foot\"],[\"2013\",\"avg_px_sqr_foot\"],[\"2014\",\"avg_px_sqr_foot\"],[\"2015\",\"avg_px_sqr_foot\"],[\"2016\",\"avg_px_sqr_foot\"],[\"2010\",\"avg_rent\"],[\"2011\",\"avg_rent\"],[\"2012\",\"avg_rent\"],[\"2013\",\"avg_rent\"],[\"2014\",\"avg_rent\"],[\"2015\",\"avg_rent\"],[\"2016\",\"avg_rent\"]],\"year\":[\"2010\",\"2011\",\"2012\",\"2013\",\"2014\",\"2015\",\"2016\",\"2010\",\"2011\",\"2012\",\"2013\",\"2014\",\"2015\",\"2016\"]},\"selected\":{\"id\":\"3159\"},\"selection_policy\":{\"id\":\"3187\"}},\"id\":\"3158\",\"type\":\"ColumnDataSource\"},{\"attributes\":{},\"id\":\"3138\",\"type\":\"CategoricalTicker\"},{\"attributes\":{\"axis\":{\"id\":\"3137\"},\"grid_line_color\":null,\"ticker\":null},\"id\":\"3139\",\"type\":\"Grid\"},{\"attributes\":{},\"id\":\"3135\",\"type\":\"LinearScale\"},{\"attributes\":{},\"id\":\"3141\",\"type\":\"BasicTicker\"},{\"attributes\":{\"bottom\":{\"value\":0},\"fill_alpha\":{\"value\":1.0},\"fill_color\":{\"field\":\"Variable\",\"transform\":{\"id\":\"3157\"}},\"hatch_alpha\":{\"value\":1.0},\"hatch_color\":{\"value\":\"black\"},\"hatch_scale\":{\"value\":12.0},\"hatch_weight\":{\"value\":1.0},\"line_alpha\":{\"value\":1.0},\"line_cap\":{\"value\":\"butt\"},\"line_color\":{\"value\":\"black\"},\"line_dash\":{\"value\":[]},\"line_dash_offset\":{\"value\":0},\"line_join\":{\"value\":\"bevel\"},\"line_width\":{\"value\":1},\"top\":{\"field\":\"value\"},\"width\":{\"value\":0.8},\"x\":{\"field\":\"xoffsets\"}},\"id\":\"3166\",\"type\":\"VBar\"},{\"attributes\":{\"axis_label\":\"\",\"formatter\":{\"id\":\"3172\"},\"major_label_policy\":{\"id\":\"3170\"},\"ticker\":{\"id\":\"3141\"}},\"id\":\"3140\",\"type\":\"LinearAxis\"},{\"attributes\":{},\"id\":\"3170\",\"type\":\"AllLabels\"},{\"attributes\":{\"client_comm_id\":\"2c6f2735ea28464d9f2f016520aa2b23\",\"comm_id\":\"5f575352af314cc0928f434d0b426ec3\",\"plot_id\":\"3124\"},\"id\":\"3233\",\"type\":\"panel.models.comm_manager.CommManager\"},{\"attributes\":{},\"id\":\"3187\",\"type\":\"UnionRenderers\"},{\"attributes\":{\"fill_color\":{\"field\":\"Variable\",\"transform\":{\"id\":\"3157\"}},\"top\":{\"field\":\"value\"},\"width\":{\"value\":0.8},\"x\":{\"field\":\"xoffsets\"}},\"id\":\"3161\",\"type\":\"VBar\"}],\"root_ids\":[\"3124\",\"3233\"]},\"title\":\"Bokeh Application\",\"version\":\"2.3.2\"}};\n",
       "    var render_items = [{\"docid\":\"41f949d0-8fcd-4dfc-a234-1fe917115d03\",\"root_ids\":[\"3124\"],\"roots\":{\"3124\":\"a8e0c393-6bba-4117-905f-a920d846ad55\"}}];\n",
       "    root.Bokeh.embed.embed_items_notebook(docs_json, render_items);\n",
       "  }\n",
       "  if (root.Bokeh !== undefined && root.Bokeh.Panel !== undefined && ( root['Plotly'] !== undefined)) {\n",
       "    embed_document(root);\n",
       "  } else {\n",
       "    var attempts = 0;\n",
       "    var timer = setInterval(function(root) {\n",
       "      if (root.Bokeh !== undefined && root.Bokeh.Panel !== undefined && (root['Plotly'] !== undefined)) {\n",
       "        clearInterval(timer);\n",
       "        embed_document(root);\n",
       "      } else if (document.readyState == \"complete\") {\n",
       "        attempts++;\n",
       "        if (attempts > 200) {\n",
       "          clearInterval(timer);\n",
       "          console.log(\"Bokeh: ERROR: Unable to run BokehJS code because BokehJS library is missing\");\n",
       "        }\n",
       "      }\n",
       "    }, 25, root)\n",
       "  }\n",
       "})(window);</script>"
      ],
      "text/plain": [
       "Row\n",
       "    [0] HoloViews(DynamicMap)\n",
       "    [1] Column\n",
       "        [0] WidgetBox\n",
       "            [0] Select(margin=(20, 20, 20, 20), name='neighborhood', options=['Alamo Square', ...], value='Alamo Square', width=250)\n",
       "        [1] VSpacer()"
      ]
     },
     "execution_count": 36,
     "metadata": {
      "application/vnd.holoviews_exec.v0+json": {
       "id": "3124"
      }
     },
     "output_type": "execute_result"
    }
   ],
   "source": [
    "most_expensive_neighborhoods_rent_sales()"
   ]
  },
  {
   "cell_type": "code",
   "execution_count": 37,
   "metadata": {},
   "outputs": [
    {
     "ename": "NameError",
     "evalue": "name 'combined_df' is not defined",
     "output_type": "error",
     "traceback": [
      "\u001b[0;31m---------------------------------------------------------------------------\u001b[0m",
      "\u001b[0;31mNameError\u001b[0m                                 Traceback (most recent call last)",
      "\u001b[0;32m<ipython-input-37-1f5badb9036f>\u001b[0m in \u001b[0;36m<module>\u001b[0;34m\u001b[0m\n\u001b[0;32m----> 1\u001b[0;31m \u001b[0mneighborhood_map\u001b[0m\u001b[0;34m(\u001b[0m\u001b[0;34m)\u001b[0m\u001b[0;34m.\u001b[0m\u001b[0mshow\u001b[0m\u001b[0;34m(\u001b[0m\u001b[0;34m)\u001b[0m\u001b[0;34m\u001b[0m\u001b[0;34m\u001b[0m\u001b[0m\n\u001b[0m",
      "\u001b[0;32m<ipython-input-14-cf7db3bfa9d4>\u001b[0m in \u001b[0;36mneighborhood_map\u001b[0;34m()\u001b[0m\n\u001b[1;32m     37\u001b[0m \u001b[0;32mdef\u001b[0m \u001b[0mneighborhood_map\u001b[0m\u001b[0;34m(\u001b[0m\u001b[0;34m)\u001b[0m\u001b[0;34m:\u001b[0m\u001b[0;34m\u001b[0m\u001b[0;34m\u001b[0m\u001b[0m\n\u001b[1;32m     38\u001b[0m     map_1 = px.scatter_mapbox(\n\u001b[0;32m---> 39\u001b[0;31m         \u001b[0mcombined_df\u001b[0m\u001b[0;34m,\u001b[0m\u001b[0;34m\u001b[0m\u001b[0;34m\u001b[0m\u001b[0m\n\u001b[0m\u001b[1;32m     40\u001b[0m         \u001b[0mlat\u001b[0m\u001b[0;34m=\u001b[0m\u001b[0;34m\"Lat\"\u001b[0m\u001b[0;34m,\u001b[0m\u001b[0;34m\u001b[0m\u001b[0;34m\u001b[0m\u001b[0m\n\u001b[1;32m     41\u001b[0m         \u001b[0mlon\u001b[0m\u001b[0;34m=\u001b[0m\u001b[0;34m\"Lon\"\u001b[0m\u001b[0;34m,\u001b[0m\u001b[0;34m\u001b[0m\u001b[0;34m\u001b[0m\u001b[0m\n",
      "\u001b[0;31mNameError\u001b[0m: name 'combined_df' is not defined"
     ]
    }
   ],
   "source": [
    "neighborhood_map().show()"
   ]
  },
  {
   "cell_type": "code",
   "execution_count": null,
   "metadata": {},
   "outputs": [],
   "source": [
    "# parallel_categories()"
   ]
  },
  {
   "cell_type": "code",
   "execution_count": null,
   "metadata": {},
   "outputs": [],
   "source": [
    "# parallel_coordinates()"
   ]
  },
  {
   "cell_type": "code",
   "execution_count": null,
   "metadata": {},
   "outputs": [],
   "source": [
    "# sunburst()"
   ]
  },
  {
   "cell_type": "code",
   "execution_count": null,
   "metadata": {},
   "outputs": [],
   "source": []
  }
 ],
 "metadata": {
  "file_extension": ".py",
  "kernelspec": {
   "display_name": "Python [conda env:pyvizenv] *",
   "language": "python",
   "name": "conda-env-pyvizenv-py"
  },
  "language_info": {
   "codemirror_mode": {
    "name": "ipython",
    "version": 3
   },
   "file_extension": ".py",
   "mimetype": "text/x-python",
   "name": "python",
   "nbconvert_exporter": "python",
   "pygments_lexer": "ipython3",
   "version": "3.7.10"
  },
  "mimetype": "text/x-python",
  "name": "python",
  "npconvert_exporter": "python",
  "pygments_lexer": "ipython3",
  "version": 3
 },
 "nbformat": 4,
 "nbformat_minor": 4
}
